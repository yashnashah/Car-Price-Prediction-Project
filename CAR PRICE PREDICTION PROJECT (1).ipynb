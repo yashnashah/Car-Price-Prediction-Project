{
 "cells": [
  {
   "cell_type": "code",
   "execution_count": 1,
   "id": "df359c37",
   "metadata": {},
   "outputs": [],
   "source": [
    "# Importing the required libraries\n",
    "import numpy as np\n",
    "import pandas as pd\n",
    "import matplotlib.pyplot as plt\n",
    "import seaborn as sns\n",
    "import warnings\n",
    "warnings.filterwarnings('ignore')\n",
    "from sklearn.linear_model import LogisticRegression\n",
    "from sklearn.tree import DecisionTreeClassifier\n",
    "from sklearn.model_selection import GridSearchCV\n",
    "from sklearn.model_selection import train_test_split\n",
    "from sklearn.neighbors import KNeighborsClassifier\n",
    "from sklearn.naive_bayes import GaussianNB\n",
    "from sklearn.ensemble import RandomForestClassifier\n",
    "from sklearn.preprocessing import StandardScaler\n",
    "from sklearn.metrics import accuracy_score, confusion_matrix, roc_curve, roc_auc_score\n",
    "import statsmodels.api as sma\n",
    "from statsmodels.stats.outliers_influence import variance_inflation_factor\n",
    "from sklearn.model_selection import cross_val_score\n",
    "from sklearn.ensemble import RandomForestRegressor\n",
    "from sklearn.metrics import r2_score\n",
    "from sklearn.metrics import mean_squared_error\n",
    "from sklearn.metrics import mean_absolute_error"
   ]
  },
  {
   "cell_type": "code",
   "execution_count": 2,
   "id": "7fa04785",
   "metadata": {},
   "outputs": [
    {
     "data": {
      "text/html": [
       "<div>\n",
       "<style scoped>\n",
       "    .dataframe tbody tr th:only-of-type {\n",
       "        vertical-align: middle;\n",
       "    }\n",
       "\n",
       "    .dataframe tbody tr th {\n",
       "        vertical-align: top;\n",
       "    }\n",
       "\n",
       "    .dataframe thead th {\n",
       "        text-align: right;\n",
       "    }\n",
       "</style>\n",
       "<table border=\"1\" class=\"dataframe\">\n",
       "  <thead>\n",
       "    <tr style=\"text-align: right;\">\n",
       "      <th></th>\n",
       "      <th>Unnamed: 0</th>\n",
       "      <th>brands</th>\n",
       "      <th>variant</th>\n",
       "      <th>driven_kms</th>\n",
       "      <th>owners</th>\n",
       "      <th>fuel</th>\n",
       "      <th>EMI</th>\n",
       "      <th>price</th>\n",
       "      <th>Location</th>\n",
       "    </tr>\n",
       "  </thead>\n",
       "  <tbody>\n",
       "    <tr>\n",
       "      <th>0</th>\n",
       "      <td>0</td>\n",
       "      <td>2014 Maruti Swift</td>\n",
       "      <td>Manual</td>\n",
       "      <td>22,424</td>\n",
       "      <td>2.0</td>\n",
       "      <td>Petrol</td>\n",
       "      <td>9,076</td>\n",
       "      <td>4,07,999</td>\n",
       "      <td>Mumbai</td>\n",
       "    </tr>\n",
       "    <tr>\n",
       "      <th>1</th>\n",
       "      <td>1</td>\n",
       "      <td>2019 Maruti Vitara Brezza</td>\n",
       "      <td>Manual</td>\n",
       "      <td>17,280</td>\n",
       "      <td>1.0</td>\n",
       "      <td>Diesel</td>\n",
       "      <td>18,656</td>\n",
       "      <td>NaN</td>\n",
       "      <td>Mumbai</td>\n",
       "    </tr>\n",
       "    <tr>\n",
       "      <th>2</th>\n",
       "      <td>2</td>\n",
       "      <td>2019 Hyundai Grand i10</td>\n",
       "      <td>Manual</td>\n",
       "      <td>10,153</td>\n",
       "      <td>1.0</td>\n",
       "      <td>Petrol</td>\n",
       "      <td>11,874</td>\n",
       "      <td>NaN</td>\n",
       "      <td>Mumbai</td>\n",
       "    </tr>\n",
       "    <tr>\n",
       "      <th>3</th>\n",
       "      <td>3</td>\n",
       "      <td>2019 Maruti Baleno</td>\n",
       "      <td>Manual</td>\n",
       "      <td>65,720</td>\n",
       "      <td>1.0</td>\n",
       "      <td>Petrol</td>\n",
       "      <td>16,252</td>\n",
       "      <td>NaN</td>\n",
       "      <td>Mumbai</td>\n",
       "    </tr>\n",
       "    <tr>\n",
       "      <th>4</th>\n",
       "      <td>4</td>\n",
       "      <td>2019 Maruti Baleno</td>\n",
       "      <td>Manual</td>\n",
       "      <td>42,158</td>\n",
       "      <td>1.0</td>\n",
       "      <td>Petrol</td>\n",
       "      <td>16,877</td>\n",
       "      <td>NaN</td>\n",
       "      <td>Mumbai</td>\n",
       "    </tr>\n",
       "    <tr>\n",
       "      <th>...</th>\n",
       "      <td>...</td>\n",
       "      <td>...</td>\n",
       "      <td>...</td>\n",
       "      <td>...</td>\n",
       "      <td>...</td>\n",
       "      <td>...</td>\n",
       "      <td>...</td>\n",
       "      <td>...</td>\n",
       "      <td>...</td>\n",
       "    </tr>\n",
       "    <tr>\n",
       "      <th>3653</th>\n",
       "      <td>813</td>\n",
       "      <td>2015 Hyundai Creta</td>\n",
       "      <td>Manual</td>\n",
       "      <td>53,083</td>\n",
       "      <td>1.0</td>\n",
       "      <td>Petrol</td>\n",
       "      <td>17,609</td>\n",
       "      <td>7,91,599</td>\n",
       "      <td>Gurgaon</td>\n",
       "    </tr>\n",
       "    <tr>\n",
       "      <th>3654</th>\n",
       "      <td>814</td>\n",
       "      <td>2019 Maruti Vitara Brezza</td>\n",
       "      <td>Manual</td>\n",
       "      <td>31,245</td>\n",
       "      <td>1.0</td>\n",
       "      <td>Diesel</td>\n",
       "      <td>17,867</td>\n",
       "      <td>8,03,199</td>\n",
       "      <td>Gurgaon</td>\n",
       "    </tr>\n",
       "    <tr>\n",
       "      <th>3655</th>\n",
       "      <td>815</td>\n",
       "      <td>2020 Ford Ecosport</td>\n",
       "      <td>Manual</td>\n",
       "      <td>32,965</td>\n",
       "      <td>1.0</td>\n",
       "      <td>Diesel</td>\n",
       "      <td>16,775</td>\n",
       "      <td>7,54,099</td>\n",
       "      <td>Gurgaon</td>\n",
       "    </tr>\n",
       "    <tr>\n",
       "      <th>3656</th>\n",
       "      <td>816</td>\n",
       "      <td>2018 Maruti Baleno</td>\n",
       "      <td>Manual</td>\n",
       "      <td>23,091</td>\n",
       "      <td>1.0</td>\n",
       "      <td>Petrol</td>\n",
       "      <td>13,547</td>\n",
       "      <td>6,08,999</td>\n",
       "      <td>Gurgaon</td>\n",
       "    </tr>\n",
       "    <tr>\n",
       "      <th>3657</th>\n",
       "      <td>817</td>\n",
       "      <td>2013 Hyundai Grand i10</td>\n",
       "      <td>Automatic</td>\n",
       "      <td>28,397</td>\n",
       "      <td>4.0</td>\n",
       "      <td>Petrol</td>\n",
       "      <td>8,150</td>\n",
       "      <td>3,66,399</td>\n",
       "      <td>Gurgaon</td>\n",
       "    </tr>\n",
       "  </tbody>\n",
       "</table>\n",
       "<p>3658 rows × 9 columns</p>\n",
       "</div>"
      ],
      "text/plain": [
       "      Unnamed: 0                     brands    variant driven_kms  owners  \\\n",
       "0              0          2014 Maruti Swift     Manual    22,424      2.0   \n",
       "1              1  2019 Maruti Vitara Brezza     Manual    17,280      1.0   \n",
       "2              2     2019 Hyundai Grand i10     Manual    10,153      1.0   \n",
       "3              3         2019 Maruti Baleno     Manual    65,720      1.0   \n",
       "4              4         2019 Maruti Baleno     Manual    42,158      1.0   \n",
       "...          ...                        ...        ...        ...     ...   \n",
       "3653         813         2015 Hyundai Creta     Manual    53,083      1.0   \n",
       "3654         814  2019 Maruti Vitara Brezza     Manual    31,245      1.0   \n",
       "3655         815         2020 Ford Ecosport     Manual    32,965      1.0   \n",
       "3656         816         2018 Maruti Baleno     Manual    23,091      1.0   \n",
       "3657         817     2013 Hyundai Grand i10  Automatic    28,397      4.0   \n",
       "\n",
       "        fuel     EMI     price Location  \n",
       "0     Petrol   9,076  4,07,999   Mumbai  \n",
       "1     Diesel  18,656       NaN   Mumbai  \n",
       "2     Petrol  11,874       NaN   Mumbai  \n",
       "3     Petrol  16,252       NaN   Mumbai  \n",
       "4     Petrol  16,877       NaN   Mumbai  \n",
       "...      ...     ...       ...      ...  \n",
       "3653  Petrol  17,609  7,91,599  Gurgaon  \n",
       "3654  Diesel  17,867  8,03,199  Gurgaon  \n",
       "3655  Diesel  16,775  7,54,099  Gurgaon  \n",
       "3656  Petrol  13,547  6,08,999  Gurgaon  \n",
       "3657  Petrol   8,150  3,66,399  Gurgaon  \n",
       "\n",
       "[3658 rows x 9 columns]"
      ]
     },
     "execution_count": 2,
     "metadata": {},
     "output_type": "execute_result"
    }
   ],
   "source": [
    "df = pd.read_csv('C:/USERS/YASHN/USED_CARDETAILS2.CSV')\n",
    "df"
   ]
  },
  {
   "cell_type": "code",
   "execution_count": 3,
   "id": "f413d653",
   "metadata": {},
   "outputs": [
    {
     "data": {
      "text/html": [
       "<div>\n",
       "<style scoped>\n",
       "    .dataframe tbody tr th:only-of-type {\n",
       "        vertical-align: middle;\n",
       "    }\n",
       "\n",
       "    .dataframe tbody tr th {\n",
       "        vertical-align: top;\n",
       "    }\n",
       "\n",
       "    .dataframe thead th {\n",
       "        text-align: right;\n",
       "    }\n",
       "</style>\n",
       "<table border=\"1\" class=\"dataframe\">\n",
       "  <thead>\n",
       "    <tr style=\"text-align: right;\">\n",
       "      <th></th>\n",
       "      <th>Unnamed: 0</th>\n",
       "      <th>brands</th>\n",
       "      <th>variant</th>\n",
       "      <th>driven_kms</th>\n",
       "      <th>owners</th>\n",
       "      <th>fuel</th>\n",
       "      <th>EMI</th>\n",
       "      <th>price</th>\n",
       "      <th>Location</th>\n",
       "    </tr>\n",
       "  </thead>\n",
       "  <tbody>\n",
       "    <tr>\n",
       "      <th>0</th>\n",
       "      <td>0</td>\n",
       "      <td>2014 Maruti Swift</td>\n",
       "      <td>Manual</td>\n",
       "      <td>22,424</td>\n",
       "      <td>2.0</td>\n",
       "      <td>Petrol</td>\n",
       "      <td>9,076</td>\n",
       "      <td>4,07,999</td>\n",
       "      <td>Mumbai</td>\n",
       "    </tr>\n",
       "    <tr>\n",
       "      <th>1</th>\n",
       "      <td>1</td>\n",
       "      <td>2019 Maruti Vitara Brezza</td>\n",
       "      <td>Manual</td>\n",
       "      <td>17,280</td>\n",
       "      <td>1.0</td>\n",
       "      <td>Diesel</td>\n",
       "      <td>18,656</td>\n",
       "      <td>NaN</td>\n",
       "      <td>Mumbai</td>\n",
       "    </tr>\n",
       "    <tr>\n",
       "      <th>2</th>\n",
       "      <td>2</td>\n",
       "      <td>2019 Hyundai Grand i10</td>\n",
       "      <td>Manual</td>\n",
       "      <td>10,153</td>\n",
       "      <td>1.0</td>\n",
       "      <td>Petrol</td>\n",
       "      <td>11,874</td>\n",
       "      <td>NaN</td>\n",
       "      <td>Mumbai</td>\n",
       "    </tr>\n",
       "    <tr>\n",
       "      <th>3</th>\n",
       "      <td>3</td>\n",
       "      <td>2019 Maruti Baleno</td>\n",
       "      <td>Manual</td>\n",
       "      <td>65,720</td>\n",
       "      <td>1.0</td>\n",
       "      <td>Petrol</td>\n",
       "      <td>16,252</td>\n",
       "      <td>NaN</td>\n",
       "      <td>Mumbai</td>\n",
       "    </tr>\n",
       "    <tr>\n",
       "      <th>4</th>\n",
       "      <td>4</td>\n",
       "      <td>2019 Maruti Baleno</td>\n",
       "      <td>Manual</td>\n",
       "      <td>42,158</td>\n",
       "      <td>1.0</td>\n",
       "      <td>Petrol</td>\n",
       "      <td>16,877</td>\n",
       "      <td>NaN</td>\n",
       "      <td>Mumbai</td>\n",
       "    </tr>\n",
       "  </tbody>\n",
       "</table>\n",
       "</div>"
      ],
      "text/plain": [
       "   Unnamed: 0                     brands variant driven_kms  owners    fuel  \\\n",
       "0           0          2014 Maruti Swift  Manual    22,424      2.0  Petrol   \n",
       "1           1  2019 Maruti Vitara Brezza  Manual    17,280      1.0  Diesel   \n",
       "2           2     2019 Hyundai Grand i10  Manual    10,153      1.0  Petrol   \n",
       "3           3         2019 Maruti Baleno  Manual    65,720      1.0  Petrol   \n",
       "4           4         2019 Maruti Baleno  Manual    42,158      1.0  Petrol   \n",
       "\n",
       "      EMI     price Location  \n",
       "0   9,076  4,07,999   Mumbai  \n",
       "1  18,656       NaN   Mumbai  \n",
       "2  11,874       NaN   Mumbai  \n",
       "3  16,252       NaN   Mumbai  \n",
       "4  16,877       NaN   Mumbai  "
      ]
     },
     "execution_count": 3,
     "metadata": {},
     "output_type": "execute_result"
    }
   ],
   "source": [
    "#displaying the max columns\n",
    "pd.set_option(\"display.max_columns\",None)\n",
    "df.head()"
   ]
  },
  {
   "cell_type": "code",
   "execution_count": 4,
   "id": "a7e6171c",
   "metadata": {},
   "outputs": [
    {
     "name": "stdout",
     "output_type": "stream",
     "text": [
      "<class 'pandas.core.frame.DataFrame'>\n",
      "RangeIndex: 3658 entries, 0 to 3657\n",
      "Data columns (total 9 columns):\n",
      " #   Column      Non-Null Count  Dtype  \n",
      "---  ------      --------------  -----  \n",
      " 0   Unnamed: 0  3658 non-null   int64  \n",
      " 1   brands      3658 non-null   object \n",
      " 2   variant     3606 non-null   object \n",
      " 3   driven_kms  3658 non-null   object \n",
      " 4   owners      3512 non-null   float64\n",
      " 5   fuel        3658 non-null   object \n",
      " 6   EMI         3658 non-null   object \n",
      " 7   price       3086 non-null   object \n",
      " 8   Location    3658 non-null   object \n",
      "dtypes: float64(1), int64(1), object(7)\n",
      "memory usage: 257.3+ KB\n"
     ]
    }
   ],
   "source": [
    "# Checking the info of each column\n",
    "df.info()"
   ]
  },
  {
   "cell_type": "code",
   "execution_count": 5,
   "id": "32806fb5",
   "metadata": {},
   "outputs": [
    {
     "data": {
      "text/plain": [
       "Unnamed: 0      0\n",
       "brands          0\n",
       "variant        52\n",
       "driven_kms      0\n",
       "owners        146\n",
       "fuel            0\n",
       "EMI             0\n",
       "price         572\n",
       "Location        0\n",
       "dtype: int64"
      ]
     },
     "execution_count": 5,
     "metadata": {},
     "output_type": "execute_result"
    }
   ],
   "source": [
    "# Checking null values\n",
    "df.isnull().sum()"
   ]
  },
  {
   "cell_type": "markdown",
   "id": "7576421a",
   "metadata": {},
   "source": [
    "There are null values in our dataset. "
   ]
  },
  {
   "cell_type": "code",
   "execution_count": 6,
   "id": "c7a432ef",
   "metadata": {},
   "outputs": [
    {
     "data": {
      "text/plain": [
       "(3658, 9)"
      ]
     },
     "execution_count": 6,
     "metadata": {},
     "output_type": "execute_result"
    }
   ],
   "source": [
    "# Checking the dimensions of the training dataset\n",
    "df.shape"
   ]
  },
  {
   "cell_type": "code",
   "execution_count": 7,
   "id": "0462f58d",
   "metadata": {},
   "outputs": [
    {
     "data": {
      "text/plain": [
       "<AxesSubplot:>"
      ]
     },
     "execution_count": 7,
     "metadata": {},
     "output_type": "execute_result"
    },
    {
     "data": {
      "image/png": "[encoded data removed]",
      "text/plain": [
       "<Figure size 432x288 with 2 Axes>"
      ]
     },
     "metadata": {
      "needs_background": "light"
     },
     "output_type": "display_data"
    }
   ],
   "source": [
    "# plotting heatmap\n",
    "sns.heatmap(df.isnull())"
   ]
  },
  {
   "cell_type": "code",
   "execution_count": 8,
   "id": "e8cebd99",
   "metadata": {},
   "outputs": [],
   "source": [
    "# Filling missing values with mode\n",
    "df['variant']=df['variant'].fillna(df['variant'].mode()[0])\n",
    "df['owners']=df['owners'].fillna(df['owners'].mode()[0])\n",
    "df['price']=df['price'].fillna(df['price'].mode()[0])"
   ]
  },
  {
   "cell_type": "code",
   "execution_count": 9,
   "id": "7336ce17",
   "metadata": {},
   "outputs": [],
   "source": [
    "# Dropping the unrequired column\n",
    "df.drop(['Unnamed: 0'],axis=1,inplace=True)"
   ]
  },
  {
   "cell_type": "code",
   "execution_count": 10,
   "id": "13ee5b1f",
   "metadata": {},
   "outputs": [
    {
     "data": {
      "text/html": [
       "<div>\n",
       "<style scoped>\n",
       "    .dataframe tbody tr th:only-of-type {\n",
       "        vertical-align: middle;\n",
       "    }\n",
       "\n",
       "    .dataframe tbody tr th {\n",
       "        vertical-align: top;\n",
       "    }\n",
       "\n",
       "    .dataframe thead th {\n",
       "        text-align: right;\n",
       "    }\n",
       "</style>\n",
       "<table border=\"1\" class=\"dataframe\">\n",
       "  <thead>\n",
       "    <tr style=\"text-align: right;\">\n",
       "      <th></th>\n",
       "      <th>brands</th>\n",
       "      <th>variant</th>\n",
       "      <th>driven_kms</th>\n",
       "      <th>owners</th>\n",
       "      <th>fuel</th>\n",
       "      <th>EMI</th>\n",
       "      <th>price</th>\n",
       "      <th>Location</th>\n",
       "    </tr>\n",
       "  </thead>\n",
       "  <tbody>\n",
       "    <tr>\n",
       "      <th>0</th>\n",
       "      <td>2014 Maruti Swift</td>\n",
       "      <td>Manual</td>\n",
       "      <td>22,424</td>\n",
       "      <td>2.0</td>\n",
       "      <td>Petrol</td>\n",
       "      <td>9,076</td>\n",
       "      <td>4,07,999</td>\n",
       "      <td>Mumbai</td>\n",
       "    </tr>\n",
       "    <tr>\n",
       "      <th>1</th>\n",
       "      <td>2019 Maruti Vitara Brezza</td>\n",
       "      <td>Manual</td>\n",
       "      <td>17,280</td>\n",
       "      <td>1.0</td>\n",
       "      <td>Diesel</td>\n",
       "      <td>18,656</td>\n",
       "      <td>3,44,999</td>\n",
       "      <td>Mumbai</td>\n",
       "    </tr>\n",
       "    <tr>\n",
       "      <th>2</th>\n",
       "      <td>2019 Hyundai Grand i10</td>\n",
       "      <td>Manual</td>\n",
       "      <td>10,153</td>\n",
       "      <td>1.0</td>\n",
       "      <td>Petrol</td>\n",
       "      <td>11,874</td>\n",
       "      <td>3,44,999</td>\n",
       "      <td>Mumbai</td>\n",
       "    </tr>\n",
       "    <tr>\n",
       "      <th>3</th>\n",
       "      <td>2019 Maruti Baleno</td>\n",
       "      <td>Manual</td>\n",
       "      <td>65,720</td>\n",
       "      <td>1.0</td>\n",
       "      <td>Petrol</td>\n",
       "      <td>16,252</td>\n",
       "      <td>3,44,999</td>\n",
       "      <td>Mumbai</td>\n",
       "    </tr>\n",
       "    <tr>\n",
       "      <th>4</th>\n",
       "      <td>2019 Maruti Baleno</td>\n",
       "      <td>Manual</td>\n",
       "      <td>42,158</td>\n",
       "      <td>1.0</td>\n",
       "      <td>Petrol</td>\n",
       "      <td>16,877</td>\n",
       "      <td>3,44,999</td>\n",
       "      <td>Mumbai</td>\n",
       "    </tr>\n",
       "    <tr>\n",
       "      <th>...</th>\n",
       "      <td>...</td>\n",
       "      <td>...</td>\n",
       "      <td>...</td>\n",
       "      <td>...</td>\n",
       "      <td>...</td>\n",
       "      <td>...</td>\n",
       "      <td>...</td>\n",
       "      <td>...</td>\n",
       "    </tr>\n",
       "    <tr>\n",
       "      <th>3653</th>\n",
       "      <td>2015 Hyundai Creta</td>\n",
       "      <td>Manual</td>\n",
       "      <td>53,083</td>\n",
       "      <td>1.0</td>\n",
       "      <td>Petrol</td>\n",
       "      <td>17,609</td>\n",
       "      <td>7,91,599</td>\n",
       "      <td>Gurgaon</td>\n",
       "    </tr>\n",
       "    <tr>\n",
       "      <th>3654</th>\n",
       "      <td>2019 Maruti Vitara Brezza</td>\n",
       "      <td>Manual</td>\n",
       "      <td>31,245</td>\n",
       "      <td>1.0</td>\n",
       "      <td>Diesel</td>\n",
       "      <td>17,867</td>\n",
       "      <td>8,03,199</td>\n",
       "      <td>Gurgaon</td>\n",
       "    </tr>\n",
       "    <tr>\n",
       "      <th>3655</th>\n",
       "      <td>2020 Ford Ecosport</td>\n",
       "      <td>Manual</td>\n",
       "      <td>32,965</td>\n",
       "      <td>1.0</td>\n",
       "      <td>Diesel</td>\n",
       "      <td>16,775</td>\n",
       "      <td>7,54,099</td>\n",
       "      <td>Gurgaon</td>\n",
       "    </tr>\n",
       "    <tr>\n",
       "      <th>3656</th>\n",
       "      <td>2018 Maruti Baleno</td>\n",
       "      <td>Manual</td>\n",
       "      <td>23,091</td>\n",
       "      <td>1.0</td>\n",
       "      <td>Petrol</td>\n",
       "      <td>13,547</td>\n",
       "      <td>6,08,999</td>\n",
       "      <td>Gurgaon</td>\n",
       "    </tr>\n",
       "    <tr>\n",
       "      <th>3657</th>\n",
       "      <td>2013 Hyundai Grand i10</td>\n",
       "      <td>Automatic</td>\n",
       "      <td>28,397</td>\n",
       "      <td>4.0</td>\n",
       "      <td>Petrol</td>\n",
       "      <td>8,150</td>\n",
       "      <td>3,66,399</td>\n",
       "      <td>Gurgaon</td>\n",
       "    </tr>\n",
       "  </tbody>\n",
       "</table>\n",
       "<p>3658 rows × 8 columns</p>\n",
       "</div>"
      ],
      "text/plain": [
       "                         brands    variant driven_kms  owners    fuel     EMI  \\\n",
       "0             2014 Maruti Swift     Manual    22,424      2.0  Petrol   9,076   \n",
       "1     2019 Maruti Vitara Brezza     Manual    17,280      1.0  Diesel  18,656   \n",
       "2        2019 Hyundai Grand i10     Manual    10,153      1.0  Petrol  11,874   \n",
       "3            2019 Maruti Baleno     Manual    65,720      1.0  Petrol  16,252   \n",
       "4            2019 Maruti Baleno     Manual    42,158      1.0  Petrol  16,877   \n",
       "...                         ...        ...        ...     ...     ...     ...   \n",
       "3653         2015 Hyundai Creta     Manual    53,083      1.0  Petrol  17,609   \n",
       "3654  2019 Maruti Vitara Brezza     Manual    31,245      1.0  Diesel  17,867   \n",
       "3655         2020 Ford Ecosport     Manual    32,965      1.0  Diesel  16,775   \n",
       "3656         2018 Maruti Baleno     Manual    23,091      1.0  Petrol  13,547   \n",
       "3657     2013 Hyundai Grand i10  Automatic    28,397      4.0  Petrol   8,150   \n",
       "\n",
       "         price Location  \n",
       "0     4,07,999   Mumbai  \n",
       "1     3,44,999   Mumbai  \n",
       "2     3,44,999   Mumbai  \n",
       "3     3,44,999   Mumbai  \n",
       "4     3,44,999   Mumbai  \n",
       "...        ...      ...  \n",
       "3653  7,91,599  Gurgaon  \n",
       "3654  8,03,199  Gurgaon  \n",
       "3655  7,54,099  Gurgaon  \n",
       "3656  6,08,999  Gurgaon  \n",
       "3657  3,66,399  Gurgaon  \n",
       "\n",
       "[3658 rows x 8 columns]"
      ]
     },
     "execution_count": 10,
     "metadata": {},
     "output_type": "execute_result"
    }
   ],
   "source": [
    "df"
   ]
  },
  {
   "cell_type": "code",
   "execution_count": 11,
   "id": "737e02eb",
   "metadata": {},
   "outputs": [
    {
     "data": {
      "text/plain": [
       "brands        0\n",
       "variant       0\n",
       "driven_kms    0\n",
       "owners        0\n",
       "fuel          0\n",
       "EMI           0\n",
       "price         0\n",
       "Location      0\n",
       "dtype: int64"
      ]
     },
     "execution_count": 11,
     "metadata": {},
     "output_type": "execute_result"
    }
   ],
   "source": [
    "# Rechecking missing values in our data\n",
    "df.isnull().sum()"
   ]
  },
  {
   "cell_type": "code",
   "execution_count": 12,
   "id": "21aa4a68",
   "metadata": {},
   "outputs": [
    {
     "data": {
      "text/plain": [
       "<AxesSubplot:>"
      ]
     },
     "execution_count": 12,
     "metadata": {},
     "output_type": "execute_result"
    },
    {
     "data": {
      "image/png": "[encoded data removed]",
      "text/plain": [
       "<Figure size 432x288 with 2 Axes>"
      ]
     },
     "metadata": {
      "needs_background": "light"
     },
     "output_type": "display_data"
    }
   ],
   "source": [
    "# plotting heatmap\n",
    "sns.heatmap(df.isnull())"
   ]
  },
  {
   "cell_type": "markdown",
   "id": "9b0dd4a3",
   "metadata": {},
   "source": [
    "Now we can see that there are no null values in our dataset."
   ]
  },
  {
   "cell_type": "code",
   "execution_count": 13,
   "id": "da31846e",
   "metadata": {},
   "outputs": [
    {
     "data": {
      "text/plain": [
       "brands         467\n",
       "variant          2\n",
       "driven_kms    3516\n",
       "owners           4\n",
       "fuel             4\n",
       "EMI           2686\n",
       "price         2288\n",
       "Location         8\n",
       "dtype: int64"
      ]
     },
     "execution_count": 13,
     "metadata": {},
     "output_type": "execute_result"
    }
   ],
   "source": [
    "# checking the unique values\n",
    "df.nunique()"
   ]
  },
  {
   "cell_type": "code",
   "execution_count": 14,
   "id": "b7f45108",
   "metadata": {},
   "outputs": [
    {
     "data": {
      "text/html": [
       "<div>\n",
       "<style scoped>\n",
       "    .dataframe tbody tr th:only-of-type {\n",
       "        vertical-align: middle;\n",
       "    }\n",
       "\n",
       "    .dataframe tbody tr th {\n",
       "        vertical-align: top;\n",
       "    }\n",
       "\n",
       "    .dataframe thead th {\n",
       "        text-align: right;\n",
       "    }\n",
       "</style>\n",
       "<table border=\"1\" class=\"dataframe\">\n",
       "  <thead>\n",
       "    <tr style=\"text-align: right;\">\n",
       "      <th></th>\n",
       "      <th>brands</th>\n",
       "      <th>variant</th>\n",
       "      <th>driven_kms</th>\n",
       "      <th>owners</th>\n",
       "      <th>fuel</th>\n",
       "      <th>EMI</th>\n",
       "      <th>price</th>\n",
       "      <th>Location</th>\n",
       "    </tr>\n",
       "  </thead>\n",
       "  <tbody>\n",
       "    <tr>\n",
       "      <th>0</th>\n",
       "      <td>131</td>\n",
       "      <td>1</td>\n",
       "      <td>850</td>\n",
       "      <td>1</td>\n",
       "      <td>1</td>\n",
       "      <td>2477</td>\n",
       "      <td>818</td>\n",
       "      <td>6</td>\n",
       "    </tr>\n",
       "    <tr>\n",
       "      <th>1</th>\n",
       "      <td>390</td>\n",
       "      <td>1</td>\n",
       "      <td>554</td>\n",
       "      <td>0</td>\n",
       "      <td>0</td>\n",
       "      <td>1366</td>\n",
       "      <td>515</td>\n",
       "      <td>6</td>\n",
       "    </tr>\n",
       "    <tr>\n",
       "      <th>2</th>\n",
       "      <td>364</td>\n",
       "      <td>1</td>\n",
       "      <td>221</td>\n",
       "      <td>0</td>\n",
       "      <td>1</td>\n",
       "      <td>410</td>\n",
       "      <td>515</td>\n",
       "      <td>6</td>\n",
       "    </tr>\n",
       "    <tr>\n",
       "      <th>3</th>\n",
       "      <td>379</td>\n",
       "      <td>1</td>\n",
       "      <td>2817</td>\n",
       "      <td>0</td>\n",
       "      <td>1</td>\n",
       "      <td>1142</td>\n",
       "      <td>515</td>\n",
       "      <td>6</td>\n",
       "    </tr>\n",
       "    <tr>\n",
       "      <th>4</th>\n",
       "      <td>379</td>\n",
       "      <td>1</td>\n",
       "      <td>1903</td>\n",
       "      <td>0</td>\n",
       "      <td>1</td>\n",
       "      <td>1207</td>\n",
       "      <td>515</td>\n",
       "      <td>6</td>\n",
       "    </tr>\n",
       "  </tbody>\n",
       "</table>\n",
       "</div>"
      ],
      "text/plain": [
       "   brands  variant  driven_kms  owners  fuel   EMI  price  Location\n",
       "0     131        1         850       1     1  2477    818         6\n",
       "1     390        1         554       0     0  1366    515         6\n",
       "2     364        1         221       0     1   410    515         6\n",
       "3     379        1        2817       0     1  1142    515         6\n",
       "4     379        1        1903       0     1  1207    515         6"
      ]
     },
     "execution_count": 14,
     "metadata": {},
     "output_type": "execute_result"
    }
   ],
   "source": [
    "from sklearn.preprocessing import LabelEncoder\n",
    "\n",
    "df = df.copy()\n",
    "le = LabelEncoder()\n",
    "for column in df.columns:\n",
    "    df[column] = le.fit_transform(df[column])\n",
    "df.head() "
   ]
  },
  {
   "cell_type": "code",
   "execution_count": 15,
   "id": "e2e6db4d",
   "metadata": {},
   "outputs": [
    {
     "data": {
      "text/plain": [
       "array([[<AxesSubplot:title={'center':'brands'}>,\n",
       "        <AxesSubplot:title={'center':'variant'}>,\n",
       "        <AxesSubplot:title={'center':'driven_kms'}>,\n",
       "        <AxesSubplot:title={'center':'owners'}>,\n",
       "        <AxesSubplot:title={'center':'fuel'}>,\n",
       "        <AxesSubplot:title={'center':'EMI'}>,\n",
       "        <AxesSubplot:title={'center':'price'}>,\n",
       "        <AxesSubplot:title={'center':'Location'}>, <AxesSubplot:>,\n",
       "        <AxesSubplot:>],\n",
       "       [<AxesSubplot:>, <AxesSubplot:>, <AxesSubplot:>, <AxesSubplot:>,\n",
       "        <AxesSubplot:>, <AxesSubplot:>, <AxesSubplot:>, <AxesSubplot:>,\n",
       "        <AxesSubplot:>, <AxesSubplot:>],\n",
       "       [<AxesSubplot:>, <AxesSubplot:>, <AxesSubplot:>, <AxesSubplot:>,\n",
       "        <AxesSubplot:>, <AxesSubplot:>, <AxesSubplot:>, <AxesSubplot:>,\n",
       "        <AxesSubplot:>, <AxesSubplot:>],\n",
       "       [<AxesSubplot:>, <AxesSubplot:>, <AxesSubplot:>, <AxesSubplot:>,\n",
       "        <AxesSubplot:>, <AxesSubplot:>, <AxesSubplot:>, <AxesSubplot:>,\n",
       "        <AxesSubplot:>, <AxesSubplot:>],\n",
       "       [<AxesSubplot:>, <AxesSubplot:>, <AxesSubplot:>, <AxesSubplot:>,\n",
       "        <AxesSubplot:>, <AxesSubplot:>, <AxesSubplot:>, <AxesSubplot:>,\n",
       "        <AxesSubplot:>, <AxesSubplot:>],\n",
       "       [<AxesSubplot:>, <AxesSubplot:>, <AxesSubplot:>, <AxesSubplot:>,\n",
       "        <AxesSubplot:>, <AxesSubplot:>, <AxesSubplot:>, <AxesSubplot:>,\n",
       "        <AxesSubplot:>, <AxesSubplot:>],\n",
       "       [<AxesSubplot:>, <AxesSubplot:>, <AxesSubplot:>, <AxesSubplot:>,\n",
       "        <AxesSubplot:>, <AxesSubplot:>, <AxesSubplot:>, <AxesSubplot:>,\n",
       "        <AxesSubplot:>, <AxesSubplot:>],\n",
       "       [<AxesSubplot:>, <AxesSubplot:>, <AxesSubplot:>, <AxesSubplot:>,\n",
       "        <AxesSubplot:>, <AxesSubplot:>, <AxesSubplot:>, <AxesSubplot:>,\n",
       "        <AxesSubplot:>, <AxesSubplot:>],\n",
       "       [<AxesSubplot:>, <AxesSubplot:>, <AxesSubplot:>, <AxesSubplot:>,\n",
       "        <AxesSubplot:>, <AxesSubplot:>, <AxesSubplot:>, <AxesSubplot:>,\n",
       "        <AxesSubplot:>, <AxesSubplot:>],\n",
       "       [<AxesSubplot:>, <AxesSubplot:>, <AxesSubplot:>, <AxesSubplot:>,\n",
       "        <AxesSubplot:>, <AxesSubplot:>, <AxesSubplot:>, <AxesSubplot:>,\n",
       "        <AxesSubplot:>, <AxesSubplot:>]], dtype=object)"
      ]
     },
     "execution_count": 15,
     "metadata": {},
     "output_type": "execute_result"
    },
    {
     "data": {
      "image/png": "[encoded data removed]",
      "text/plain": [
       "<Figure size 1440x1440 with 100 Axes>"
      ]
     },
     "metadata": {
      "needs_background": "light"
     },
     "output_type": "display_data"
    }
   ],
   "source": [
    "# plotting a histogram\n",
    "df.hist(figsize=(20,20), grid = True, layout = (10,10), bins = 30)"
   ]
  },
  {
   "cell_type": "code",
   "execution_count": 16,
   "id": "29270989",
   "metadata": {},
   "outputs": [
    {
     "data": {
      "text/html": [
       "<div>\n",
       "<style scoped>\n",
       "    .dataframe tbody tr th:only-of-type {\n",
       "        vertical-align: middle;\n",
       "    }\n",
       "\n",
       "    .dataframe tbody tr th {\n",
       "        vertical-align: top;\n",
       "    }\n",
       "\n",
       "    .dataframe thead th {\n",
       "        text-align: right;\n",
       "    }\n",
       "</style>\n",
       "<table border=\"1\" class=\"dataframe\">\n",
       "  <thead>\n",
       "    <tr style=\"text-align: right;\">\n",
       "      <th></th>\n",
       "      <th>brands</th>\n",
       "      <th>variant</th>\n",
       "      <th>driven_kms</th>\n",
       "      <th>owners</th>\n",
       "      <th>fuel</th>\n",
       "      <th>EMI</th>\n",
       "      <th>price</th>\n",
       "      <th>Location</th>\n",
       "    </tr>\n",
       "  </thead>\n",
       "  <tbody>\n",
       "    <tr>\n",
       "      <th>brands</th>\n",
       "      <td>1.000000</td>\n",
       "      <td>-0.119002</td>\n",
       "      <td>-0.230600</td>\n",
       "      <td>-0.189549</td>\n",
       "      <td>0.154491</td>\n",
       "      <td>-0.159703</td>\n",
       "      <td>0.188050</td>\n",
       "      <td>-0.096868</td>\n",
       "    </tr>\n",
       "    <tr>\n",
       "      <th>variant</th>\n",
       "      <td>-0.119002</td>\n",
       "      <td>1.000000</td>\n",
       "      <td>0.039619</td>\n",
       "      <td>-0.036497</td>\n",
       "      <td>-0.057002</td>\n",
       "      <td>-0.009507</td>\n",
       "      <td>0.087652</td>\n",
       "      <td>-0.103761</td>\n",
       "    </tr>\n",
       "    <tr>\n",
       "      <th>driven_kms</th>\n",
       "      <td>-0.230600</td>\n",
       "      <td>0.039619</td>\n",
       "      <td>1.000000</td>\n",
       "      <td>0.036784</td>\n",
       "      <td>-0.178217</td>\n",
       "      <td>0.009160</td>\n",
       "      <td>0.031618</td>\n",
       "      <td>-0.004818</td>\n",
       "    </tr>\n",
       "    <tr>\n",
       "      <th>owners</th>\n",
       "      <td>-0.189549</td>\n",
       "      <td>-0.036497</td>\n",
       "      <td>0.036784</td>\n",
       "      <td>1.000000</td>\n",
       "      <td>-0.022919</td>\n",
       "      <td>0.021422</td>\n",
       "      <td>-0.017727</td>\n",
       "      <td>-0.029217</td>\n",
       "    </tr>\n",
       "    <tr>\n",
       "      <th>fuel</th>\n",
       "      <td>0.154491</td>\n",
       "      <td>-0.057002</td>\n",
       "      <td>-0.178217</td>\n",
       "      <td>-0.022919</td>\n",
       "      <td>1.000000</td>\n",
       "      <td>0.005446</td>\n",
       "      <td>-0.091856</td>\n",
       "      <td>-0.058554</td>\n",
       "    </tr>\n",
       "    <tr>\n",
       "      <th>EMI</th>\n",
       "      <td>-0.159703</td>\n",
       "      <td>-0.009507</td>\n",
       "      <td>0.009160</td>\n",
       "      <td>0.021422</td>\n",
       "      <td>0.005446</td>\n",
       "      <td>1.000000</td>\n",
       "      <td>-0.406528</td>\n",
       "      <td>-0.003184</td>\n",
       "    </tr>\n",
       "    <tr>\n",
       "      <th>price</th>\n",
       "      <td>0.188050</td>\n",
       "      <td>0.087652</td>\n",
       "      <td>0.031618</td>\n",
       "      <td>-0.017727</td>\n",
       "      <td>-0.091856</td>\n",
       "      <td>-0.406528</td>\n",
       "      <td>1.000000</td>\n",
       "      <td>-0.289449</td>\n",
       "    </tr>\n",
       "    <tr>\n",
       "      <th>Location</th>\n",
       "      <td>-0.096868</td>\n",
       "      <td>-0.103761</td>\n",
       "      <td>-0.004818</td>\n",
       "      <td>-0.029217</td>\n",
       "      <td>-0.058554</td>\n",
       "      <td>-0.003184</td>\n",
       "      <td>-0.289449</td>\n",
       "      <td>1.000000</td>\n",
       "    </tr>\n",
       "  </tbody>\n",
       "</table>\n",
       "</div>"
      ],
      "text/plain": [
       "              brands   variant  driven_kms    owners      fuel       EMI  \\\n",
       "brands      1.000000 -0.119002   -0.230600 -0.189549  0.154491 -0.159703   \n",
       "variant    -0.119002  1.000000    0.039619 -0.036497 -0.057002 -0.009507   \n",
       "driven_kms -0.230600  0.039619    1.000000  0.036784 -0.178217  0.009160   \n",
       "owners     -0.189549 -0.036497    0.036784  1.000000 -0.022919  0.021422   \n",
       "fuel        0.154491 -0.057002   -0.178217 -0.022919  1.000000  0.005446   \n",
       "EMI        -0.159703 -0.009507    0.009160  0.021422  0.005446  1.000000   \n",
       "price       0.188050  0.087652    0.031618 -0.017727 -0.091856 -0.406528   \n",
       "Location   -0.096868 -0.103761   -0.004818 -0.029217 -0.058554 -0.003184   \n",
       "\n",
       "               price  Location  \n",
       "brands      0.188050 -0.096868  \n",
       "variant     0.087652 -0.103761  \n",
       "driven_kms  0.031618 -0.004818  \n",
       "owners     -0.017727 -0.029217  \n",
       "fuel       -0.091856 -0.058554  \n",
       "EMI        -0.406528 -0.003184  \n",
       "price       1.000000 -0.289449  \n",
       "Location   -0.289449  1.000000  "
      ]
     },
     "execution_count": 16,
     "metadata": {},
     "output_type": "execute_result"
    }
   ],
   "source": [
    "# Checking Correlation\n",
    "df.corr()"
   ]
  },
  {
   "cell_type": "code",
   "execution_count": 17,
   "id": "26c8c161",
   "metadata": {},
   "outputs": [
    {
     "data": {
      "text/plain": [
       "<AxesSubplot:>"
      ]
     },
     "execution_count": 17,
     "metadata": {},
     "output_type": "execute_result"
    },
    {
     "data": {
      "image/png": "[encoded data removed]",
      "text/plain": [
       "<Figure size 1368x720 with 2 Axes>"
      ]
     },
     "metadata": {},
     "output_type": "display_data"
    }
   ],
   "source": [
    "# Plotting correlation heatmap\n",
    "plt.figure(figsize=[19,10],facecolor='white')\n",
    "sns.heatmap(df.corr(),annot=True)"
   ]
  },
  {
   "cell_type": "code",
   "execution_count": 18,
   "id": "08b48b14",
   "metadata": {},
   "outputs": [
    {
     "data": {
      "text/plain": [
       "515     586\n",
       "484      12\n",
       "1408     11\n",
       "1396     10\n",
       "1493      9\n",
       "       ... \n",
       "1536      1\n",
       "1534      1\n",
       "1532      1\n",
       "1530      1\n",
       "2047      1\n",
       "Name: price, Length: 2288, dtype: int64"
      ]
     },
     "execution_count": 18,
     "metadata": {},
     "output_type": "execute_result"
    }
   ],
   "source": [
    "# Checking the target Variable\n",
    "df['price'].value_counts()"
   ]
  },
  {
   "cell_type": "code",
   "execution_count": 19,
   "id": "b32f2b5f",
   "metadata": {},
   "outputs": [
    {
     "data": {
      "text/plain": [
       "<AxesSubplot:xlabel='price', ylabel='count'>"
      ]
     },
     "execution_count": 19,
     "metadata": {},
     "output_type": "execute_result"
    },
    {
     "data": {
      "image/png": "[encoded data removed]",
      "text/plain": [
       "<Figure size 432x288 with 1 Axes>"
      ]
     },
     "metadata": {
      "needs_background": "light"
     },
     "output_type": "display_data"
    }
   ],
   "source": [
    "sns.countplot(df['price'])"
   ]
  },
  {
   "cell_type": "code",
   "execution_count": 21,
   "id": "518fe310",
   "metadata": {},
   "outputs": [
    {
     "data": {
      "image/png": "[encoded data removed]",
      "text/plain": [
       "<Figure size 576x432 with 1 Axes>"
      ]
     },
     "metadata": {
      "needs_background": "light"
     },
     "output_type": "display_data"
    },
    {
     "data": {
      "text/plain": [
       "252    77\n",
       "266    67\n",
       "214    65\n",
       "204    56\n",
       "131    54\n",
       "       ..\n",
       "13      1\n",
       "17      1\n",
       "21      1\n",
       "23      1\n",
       "465     1\n",
       "Name: brands, Length: 467, dtype: int64"
      ]
     },
     "execution_count": 21,
     "metadata": {},
     "output_type": "execute_result"
    }
   ],
   "source": [
    "# Let's check the column brands\n",
    "\n",
    "plt.subplots(figsize=(8,6))\n",
    "sns.countplot(x=\"brands\", data=df)\n",
    "plt.title(\"Countplot of brands\")\n",
    "plt.xlabel('brands')\n",
    "plt.ylabel(\"count\")\n",
    "plt.show()\n",
    "\n",
    "df['brands'].value_counts()"
   ]
  },
  {
   "cell_type": "code",
   "execution_count": 22,
   "id": "c3b26e5f",
   "metadata": {},
   "outputs": [
    {
     "data": {
      "image/png": "[encoded data removed]",
      "text/plain": [
       "<Figure size 576x432 with 1 Axes>"
      ]
     },
     "metadata": {
      "needs_background": "light"
     },
     "output_type": "display_data"
    },
    {
     "data": {
      "text/plain": [
       "1    3097\n",
       "0     561\n",
       "Name: variant, dtype: int64"
      ]
     },
     "execution_count": 22,
     "metadata": {},
     "output_type": "execute_result"
    }
   ],
   "source": [
    "# checking  the  value count of column variant\n",
    "\n",
    "plt.subplots(figsize=(8,6))\n",
    "sns.countplot(x=\"variant\", data=df)\n",
    "plt.title(\"Countplot of variant\")\n",
    "plt.xlabel('variant')\n",
    "plt.ylabel(\"count\")\n",
    "plt.show()\n",
    "\n",
    "df['variant'].value_counts()"
   ]
  },
  {
   "cell_type": "code",
   "execution_count": 23,
   "id": "0005bc70",
   "metadata": {},
   "outputs": [
    {
     "data": {
      "image/png": "[encoded data removed]",
      "text/plain": [
       "<Figure size 576x432 with 1 Axes>"
      ]
     },
     "metadata": {
      "needs_background": "light"
     },
     "output_type": "display_data"
    },
    {
     "data": {
      "text/plain": [
       "2229    3\n",
       "376     3\n",
       "1633    2\n",
       "1729    2\n",
       "268     2\n",
       "       ..\n",
       "2692    1\n",
       "645     1\n",
       "2696    1\n",
       "2700    1\n",
       "2047    1\n",
       "Name: driven_kms, Length: 3516, dtype: int64"
      ]
     },
     "execution_count": 23,
     "metadata": {},
     "output_type": "execute_result"
    }
   ],
   "source": [
    "# checking  the  value count of column driven_kms\n",
    "\n",
    "plt.subplots(figsize=(8,6))\n",
    "sns.countplot(x=\"driven_kms\", data=df)\n",
    "plt.title(\"Countplot of driven_kms\")\n",
    "plt.xlabel('driven_kms')\n",
    "plt.ylabel(\"count\")\n",
    "plt.show()\n",
    "\n",
    "df['driven_kms'].value_counts()"
   ]
  },
  {
   "cell_type": "code",
   "execution_count": 24,
   "id": "f6924c74",
   "metadata": {},
   "outputs": [
    {
     "data": {
      "image/png": "[encoded data removed]",
      "text/plain": [
       "<Figure size 576x432 with 1 Axes>"
      ]
     },
     "metadata": {
      "needs_background": "light"
     },
     "output_type": "display_data"
    },
    {
     "data": {
      "text/plain": [
       "0    3023\n",
       "1     559\n",
       "2      69\n",
       "3       7\n",
       "Name: owners, dtype: int64"
      ]
     },
     "execution_count": 24,
     "metadata": {},
     "output_type": "execute_result"
    }
   ],
   "source": [
    "# checking  the  value count of column owners\n",
    "\n",
    "plt.subplots(figsize=(8,6))\n",
    "sns.countplot(x=\"owners\", data=df)\n",
    "plt.title(\"Countplot of owners\")\n",
    "plt.xlabel('owners')\n",
    "plt.ylabel(\"count\")\n",
    "plt.show()\n",
    "\n",
    "df['owners'].value_counts()"
   ]
  },
  {
   "cell_type": "code",
   "execution_count": 25,
   "id": "4dbbdc21",
   "metadata": {},
   "outputs": [
    {
     "data": {
      "image/png": "[encoded data removed]",
      "text/plain": [
       "<Figure size 576x432 with 1 Axes>"
      ]
     },
     "metadata": {
      "needs_background": "light"
     },
     "output_type": "display_data"
    },
    {
     "data": {
      "text/plain": [
       "1    2623\n",
       "0    1024\n",
       "2      10\n",
       "3       1\n",
       "Name: fuel, dtype: int64"
      ]
     },
     "execution_count": 25,
     "metadata": {},
     "output_type": "execute_result"
    }
   ],
   "source": [
    "# checking  the  value count of column fuel\n",
    "\n",
    "plt.subplots(figsize=(8,6))\n",
    "sns.countplot(x=\"fuel\", data=df)\n",
    "plt.title(\"Countplot of fuel\")\n",
    "plt.xlabel('fuel')\n",
    "plt.ylabel(\"count\")\n",
    "plt.show()\n",
    "\n",
    "df['fuel'].value_counts()"
   ]
  },
  {
   "cell_type": "code",
   "execution_count": 27,
   "id": "1051a6d7",
   "metadata": {},
   "outputs": [
    {
     "data": {
      "image/png": "[encoded data removed]",
      "text/plain": [
       "<Figure size 576x432 with 1 Axes>"
      ]
     },
     "metadata": {
      "needs_background": "light"
     },
     "output_type": "display_data"
    },
    {
     "data": {
      "text/plain": [
       "2174    14\n",
       "2143    12\n",
       "416     11\n",
       "430     11\n",
       "530      9\n",
       "        ..\n",
       "1474     1\n",
       "1472     1\n",
       "1470     1\n",
       "1468     1\n",
       "2047     1\n",
       "Name: EMI, Length: 2686, dtype: int64"
      ]
     },
     "execution_count": 27,
     "metadata": {},
     "output_type": "execute_result"
    }
   ],
   "source": [
    "# checking  the  value count of column EMI\n",
    "\n",
    "plt.subplots(figsize=(8,6))\n",
    "sns.countplot(x=\"EMI\", data=df)\n",
    "plt.title(\"Countplot of EMI\")\n",
    "plt.xlabel('EMI')\n",
    "plt.ylabel(\"count\")\n",
    "plt.show()\n",
    "\n",
    "df['EMI'].value_counts()"
   ]
  },
  {
   "cell_type": "code",
   "execution_count": 28,
   "id": "4bdd6de8",
   "metadata": {},
   "outputs": [
    {
     "data": {
      "image/png": "[encoded data removed]",
      "text/plain": [
       "<Figure size 432x288 with 1 Axes>"
      ]
     },
     "metadata": {
      "needs_background": "light"
     },
     "output_type": "display_data"
    },
    {
     "data": {
      "image/png": "[encoded data removed]",
      "text/plain": [
       "<Figure size 432x288 with 1 Axes>"
      ]
     },
     "metadata": {
      "needs_background": "light"
     },
     "output_type": "display_data"
    },
    {
     "data": {
      "image/png": "[encoded data removed]",
      "text/plain": [
       "<Figure size 432x288 with 1 Axes>"
      ]
     },
     "metadata": {
      "needs_background": "light"
     },
     "output_type": "display_data"
    },
    {
     "data": {
      "image/png": "[encoded data removed]",
      "text/plain": [
       "<Figure size 432x288 with 1 Axes>"
      ]
     },
     "metadata": {
      "needs_background": "light"
     },
     "output_type": "display_data"
    },
    {
     "data": {
      "image/png": "[encoded data removed]",
      "text/plain": [
       "<Figure size 432x288 with 1 Axes>"
      ]
     },
     "metadata": {
      "needs_background": "light"
     },
     "output_type": "display_data"
    },
    {
     "data": {
      "image/png": "[encoded data removed]",
      "text/plain": [
       "<Figure size 432x288 with 1 Axes>"
      ]
     },
     "metadata": {
      "needs_background": "light"
     },
     "output_type": "display_data"
    },
    {
     "data": {
      "image/png": "[encoded data removed]",
      "text/plain": [
       "<Figure size 432x288 with 1 Axes>"
      ]
     },
     "metadata": {
      "needs_background": "light"
     },
     "output_type": "display_data"
    },
    {
     "data": {
      "image/png": "[encoded data removed]",
      "text/plain": [
       "<Figure size 432x288 with 1 Axes>"
      ]
     },
     "metadata": {
      "needs_background": "light"
     },
     "output_type": "display_data"
    }
   ],
   "source": [
    "# plotting the Scatter plot between all feature variables and target variable\n",
    "\n",
    "for col in df.describe().columns:\n",
    "    df=df.copy()\n",
    "    plt.scatter(df[col],df['price'])\n",
    "    plt.xlabel(col)\n",
    "    plt.ylabel('price')\n",
    "    plt.show()"
   ]
  },
  {
   "cell_type": "code",
   "execution_count": 29,
   "id": "9285aa3e",
   "metadata": {},
   "outputs": [
    {
     "data": {
      "text/html": [
       "<div>\n",
       "<style scoped>\n",
       "    .dataframe tbody tr th:only-of-type {\n",
       "        vertical-align: middle;\n",
       "    }\n",
       "\n",
       "    .dataframe tbody tr th {\n",
       "        vertical-align: top;\n",
       "    }\n",
       "\n",
       "    .dataframe thead th {\n",
       "        text-align: right;\n",
       "    }\n",
       "</style>\n",
       "<table border=\"1\" class=\"dataframe\">\n",
       "  <thead>\n",
       "    <tr style=\"text-align: right;\">\n",
       "      <th></th>\n",
       "      <th>brands</th>\n",
       "      <th>variant</th>\n",
       "      <th>driven_kms</th>\n",
       "      <th>owners</th>\n",
       "      <th>fuel</th>\n",
       "      <th>EMI</th>\n",
       "      <th>price</th>\n",
       "      <th>Location</th>\n",
       "    </tr>\n",
       "  </thead>\n",
       "  <tbody>\n",
       "    <tr>\n",
       "      <th>count</th>\n",
       "      <td>3658.000000</td>\n",
       "      <td>3658.000000</td>\n",
       "      <td>3658.000000</td>\n",
       "      <td>3658.000000</td>\n",
       "      <td>3658.000000</td>\n",
       "      <td>3658.000000</td>\n",
       "      <td>3658.000000</td>\n",
       "      <td>3658.000000</td>\n",
       "    </tr>\n",
       "    <tr>\n",
       "      <th>mean</th>\n",
       "      <td>245.039913</td>\n",
       "      <td>0.846638</td>\n",
       "      <td>1754.608256</td>\n",
       "      <td>0.196282</td>\n",
       "      <td>0.723346</td>\n",
       "      <td>1336.989065</td>\n",
       "      <td>1032.421815</td>\n",
       "      <td>3.155823</td>\n",
       "    </tr>\n",
       "    <tr>\n",
       "      <th>std</th>\n",
       "      <td>107.154051</td>\n",
       "      <td>0.360386</td>\n",
       "      <td>1010.233229</td>\n",
       "      <td>0.454994</td>\n",
       "      <td>0.455281</td>\n",
       "      <td>811.814221</td>\n",
       "      <td>615.444935</td>\n",
       "      <td>2.095686</td>\n",
       "    </tr>\n",
       "    <tr>\n",
       "      <th>min</th>\n",
       "      <td>0.000000</td>\n",
       "      <td>0.000000</td>\n",
       "      <td>0.000000</td>\n",
       "      <td>0.000000</td>\n",
       "      <td>0.000000</td>\n",
       "      <td>0.000000</td>\n",
       "      <td>0.000000</td>\n",
       "      <td>0.000000</td>\n",
       "    </tr>\n",
       "    <tr>\n",
       "      <th>25%</th>\n",
       "      <td>158.000000</td>\n",
       "      <td>1.000000</td>\n",
       "      <td>878.250000</td>\n",
       "      <td>0.000000</td>\n",
       "      <td>0.000000</td>\n",
       "      <td>596.250000</td>\n",
       "      <td>515.000000</td>\n",
       "      <td>2.000000</td>\n",
       "    </tr>\n",
       "    <tr>\n",
       "      <th>50%</th>\n",
       "      <td>252.000000</td>\n",
       "      <td>1.000000</td>\n",
       "      <td>1759.000000</td>\n",
       "      <td>0.000000</td>\n",
       "      <td>1.000000</td>\n",
       "      <td>1312.500000</td>\n",
       "      <td>924.500000</td>\n",
       "      <td>3.000000</td>\n",
       "    </tr>\n",
       "    <tr>\n",
       "      <th>75%</th>\n",
       "      <td>329.750000</td>\n",
       "      <td>1.000000</td>\n",
       "      <td>2623.750000</td>\n",
       "      <td>0.000000</td>\n",
       "      <td>1.000000</td>\n",
       "      <td>2094.000000</td>\n",
       "      <td>1531.750000</td>\n",
       "      <td>5.000000</td>\n",
       "    </tr>\n",
       "    <tr>\n",
       "      <th>max</th>\n",
       "      <td>466.000000</td>\n",
       "      <td>1.000000</td>\n",
       "      <td>3515.000000</td>\n",
       "      <td>3.000000</td>\n",
       "      <td>3.000000</td>\n",
       "      <td>2685.000000</td>\n",
       "      <td>2287.000000</td>\n",
       "      <td>7.000000</td>\n",
       "    </tr>\n",
       "  </tbody>\n",
       "</table>\n",
       "</div>"
      ],
      "text/plain": [
       "            brands      variant   driven_kms       owners         fuel  \\\n",
       "count  3658.000000  3658.000000  3658.000000  3658.000000  3658.000000   \n",
       "mean    245.039913     0.846638  1754.608256     0.196282     0.723346   \n",
       "std     107.154051     0.360386  1010.233229     0.454994     0.455281   \n",
       "min       0.000000     0.000000     0.000000     0.000000     0.000000   \n",
       "25%     158.000000     1.000000   878.250000     0.000000     0.000000   \n",
       "50%     252.000000     1.000000  1759.000000     0.000000     1.000000   \n",
       "75%     329.750000     1.000000  2623.750000     0.000000     1.000000   \n",
       "max     466.000000     1.000000  3515.000000     3.000000     3.000000   \n",
       "\n",
       "               EMI        price     Location  \n",
       "count  3658.000000  3658.000000  3658.000000  \n",
       "mean   1336.989065  1032.421815     3.155823  \n",
       "std     811.814221   615.444935     2.095686  \n",
       "min       0.000000     0.000000     0.000000  \n",
       "25%     596.250000   515.000000     2.000000  \n",
       "50%    1312.500000   924.500000     3.000000  \n",
       "75%    2094.000000  1531.750000     5.000000  \n",
       "max    2685.000000  2287.000000     7.000000  "
      ]
     },
     "execution_count": 29,
     "metadata": {},
     "output_type": "execute_result"
    }
   ],
   "source": [
    "# Checking the Statistical Summary\n",
    "df.describe()"
   ]
  },
  {
   "cell_type": "code",
   "execution_count": 30,
   "id": "fed938c5",
   "metadata": {},
   "outputs": [
    {
     "data": {
      "text/plain": [
       "brands          AxesSubplot(0.125,0.816017;0.0824468x0.0639831)\n",
       "variant       AxesSubplot(0.223936,0.816017;0.0824468x0.0639...\n",
       "driven_kms    AxesSubplot(0.322872,0.816017;0.0824468x0.0639...\n",
       "owners        AxesSubplot(0.421809,0.816017;0.0824468x0.0639...\n",
       "fuel          AxesSubplot(0.520745,0.816017;0.0824468x0.0639...\n",
       "EMI           AxesSubplot(0.619681,0.816017;0.0824468x0.0639...\n",
       "price         AxesSubplot(0.718617,0.816017;0.0824468x0.0639...\n",
       "Location      AxesSubplot(0.817553,0.816017;0.0824468x0.0639...\n",
       "dtype: object"
      ]
     },
     "execution_count": 30,
     "metadata": {},
     "output_type": "execute_result"
    },
    {
     "data": {
      "image/png": "[encoded data removed]",
      "text/plain": [
       "<Figure size 1296x864 with 80 Axes>"
      ]
     },
     "metadata": {
      "needs_background": "light"
     },
     "output_type": "display_data"
    }
   ],
   "source": [
    "# Checking Outliers\n",
    "df.plot(kind='box',subplots=True,layout=(10,8),sharex=False,fontsize=1,figsize=(18,12))"
   ]
  },
  {
   "cell_type": "markdown",
   "id": "8164d35c",
   "metadata": {},
   "source": [
    "We can see there are outliers in our dataset which we need to remove before moving further."
   ]
  },
  {
   "cell_type": "code",
   "execution_count": 31,
   "id": "b5a0f5a3",
   "metadata": {},
   "outputs": [
    {
     "data": {
      "text/plain": [
       "array([[1.06440682, 0.42560902, 0.89556738, ..., 1.40446763, 0.34844893,\n",
       "        1.35734346],\n",
       "       [1.35300442, 0.42560902, 1.18860909, ..., 0.03574081, 0.84084298,\n",
       "        1.35734346],\n",
       "       [1.11032994, 0.42560902, 1.51828101, ..., 1.14202951, 0.84084298,\n",
       "        1.35734346],\n",
       "       ...,\n",
       "       [1.49300894, 0.42560902, 0.31245399, ..., 0.1699994 , 1.64225309,\n",
       "        0.07436426],\n",
       "       [0.7463182 , 0.42560902, 0.86289719, ..., 0.76504445, 0.98410263,\n",
       "        0.07436426],\n",
       "       [1.53108853, 2.34957424, 0.57777553, ..., 1.14944832, 0.68483695,\n",
       "        0.07436426]])"
      ]
     },
     "execution_count": 31,
     "metadata": {},
     "output_type": "execute_result"
    }
   ],
   "source": [
    "# Removing outliers\n",
    "from scipy.stats import zscore\n",
    "z=np.abs(zscore(df))\n",
    "z"
   ]
  },
  {
   "cell_type": "code",
   "execution_count": 32,
   "id": "99714332",
   "metadata": {},
   "outputs": [
    {
     "name": "stdout",
     "output_type": "stream",
     "text": [
      "(array([  20,   33,   56,  176,  522,  710,  730,  736,  747,  752,  756,\n",
      "        798,  806,  827,  879,  908,  926,  953, 1017, 1034, 1043, 1067,\n",
      "       1097, 1113, 1113, 1138, 1140, 1211, 1216, 1230, 1244, 1259, 1274,\n",
      "       1303, 1335, 1372, 1429, 1464, 1495, 1500, 1541, 1558, 1562, 1636,\n",
      "       1650, 1686, 1789, 1799, 1808, 1837, 1897, 1944, 2114, 2128, 2308,\n",
      "       2482, 2484, 2496, 2551, 2566, 2626, 2863, 2893, 2901, 3030, 3040,\n",
      "       3051, 3133, 3213, 3217, 3305, 3315, 3333, 3452, 3460, 3525, 3657],\n",
      "      dtype=int64), array([3, 3, 3, 3, 3, 3, 3, 3, 3, 3, 3, 3, 3, 3, 3, 3, 3, 3, 3, 3, 3, 3,\n",
      "       3, 3, 4, 3, 3, 3, 3, 3, 3, 3, 3, 3, 3, 3, 3, 3, 3, 3, 3, 3, 3, 3,\n",
      "       3, 3, 3, 3, 3, 3, 3, 3, 3, 3, 3, 3, 3, 3, 3, 3, 3, 3, 3, 3, 3, 3,\n",
      "       3, 3, 3, 3, 3, 3, 3, 3, 3, 3, 3], dtype=int64))\n"
     ]
    }
   ],
   "source": [
    "threshold=3\n",
    "print(np.where(z>3))"
   ]
  },
  {
   "cell_type": "code",
   "execution_count": 34,
   "id": "ca5a73c7",
   "metadata": {},
   "outputs": [
    {
     "data": {
      "text/html": [
       "<div>\n",
       "<style scoped>\n",
       "    .dataframe tbody tr th:only-of-type {\n",
       "        vertical-align: middle;\n",
       "    }\n",
       "\n",
       "    .dataframe tbody tr th {\n",
       "        vertical-align: top;\n",
       "    }\n",
       "\n",
       "    .dataframe thead th {\n",
       "        text-align: right;\n",
       "    }\n",
       "</style>\n",
       "<table border=\"1\" class=\"dataframe\">\n",
       "  <thead>\n",
       "    <tr style=\"text-align: right;\">\n",
       "      <th></th>\n",
       "      <th>brands</th>\n",
       "      <th>variant</th>\n",
       "      <th>driven_kms</th>\n",
       "      <th>owners</th>\n",
       "      <th>fuel</th>\n",
       "      <th>EMI</th>\n",
       "      <th>price</th>\n",
       "      <th>Location</th>\n",
       "    </tr>\n",
       "  </thead>\n",
       "  <tbody>\n",
       "    <tr>\n",
       "      <th>0</th>\n",
       "      <td>131</td>\n",
       "      <td>1</td>\n",
       "      <td>850</td>\n",
       "      <td>1</td>\n",
       "      <td>1</td>\n",
       "      <td>2477</td>\n",
       "      <td>818</td>\n",
       "      <td>6</td>\n",
       "    </tr>\n",
       "    <tr>\n",
       "      <th>1</th>\n",
       "      <td>390</td>\n",
       "      <td>1</td>\n",
       "      <td>554</td>\n",
       "      <td>0</td>\n",
       "      <td>0</td>\n",
       "      <td>1366</td>\n",
       "      <td>515</td>\n",
       "      <td>6</td>\n",
       "    </tr>\n",
       "    <tr>\n",
       "      <th>2</th>\n",
       "      <td>364</td>\n",
       "      <td>1</td>\n",
       "      <td>221</td>\n",
       "      <td>0</td>\n",
       "      <td>1</td>\n",
       "      <td>410</td>\n",
       "      <td>515</td>\n",
       "      <td>6</td>\n",
       "    </tr>\n",
       "    <tr>\n",
       "      <th>3</th>\n",
       "      <td>379</td>\n",
       "      <td>1</td>\n",
       "      <td>2817</td>\n",
       "      <td>0</td>\n",
       "      <td>1</td>\n",
       "      <td>1142</td>\n",
       "      <td>515</td>\n",
       "      <td>6</td>\n",
       "    </tr>\n",
       "    <tr>\n",
       "      <th>4</th>\n",
       "      <td>379</td>\n",
       "      <td>1</td>\n",
       "      <td>1903</td>\n",
       "      <td>0</td>\n",
       "      <td>1</td>\n",
       "      <td>1207</td>\n",
       "      <td>515</td>\n",
       "      <td>6</td>\n",
       "    </tr>\n",
       "    <tr>\n",
       "      <th>...</th>\n",
       "      <td>...</td>\n",
       "      <td>...</td>\n",
       "      <td>...</td>\n",
       "      <td>...</td>\n",
       "      <td>...</td>\n",
       "      <td>...</td>\n",
       "      <td>...</td>\n",
       "      <td>...</td>\n",
       "    </tr>\n",
       "    <tr>\n",
       "      <th>3652</th>\n",
       "      <td>155</td>\n",
       "      <td>1</td>\n",
       "      <td>3250</td>\n",
       "      <td>1</td>\n",
       "      <td>0</td>\n",
       "      <td>1142</td>\n",
       "      <td>1997</td>\n",
       "      <td>3</td>\n",
       "    </tr>\n",
       "    <tr>\n",
       "      <th>3653</th>\n",
       "      <td>155</td>\n",
       "      <td>1</td>\n",
       "      <td>2403</td>\n",
       "      <td>0</td>\n",
       "      <td>1</td>\n",
       "      <td>1276</td>\n",
       "      <td>2090</td>\n",
       "      <td>3</td>\n",
       "    </tr>\n",
       "    <tr>\n",
       "      <th>3654</th>\n",
       "      <td>390</td>\n",
       "      <td>1</td>\n",
       "      <td>1348</td>\n",
       "      <td>0</td>\n",
       "      <td>0</td>\n",
       "      <td>1301</td>\n",
       "      <td>2110</td>\n",
       "      <td>3</td>\n",
       "    </tr>\n",
       "    <tr>\n",
       "      <th>3655</th>\n",
       "      <td>405</td>\n",
       "      <td>1</td>\n",
       "      <td>1439</td>\n",
       "      <td>0</td>\n",
       "      <td>0</td>\n",
       "      <td>1199</td>\n",
       "      <td>2043</td>\n",
       "      <td>3</td>\n",
       "    </tr>\n",
       "    <tr>\n",
       "      <th>3656</th>\n",
       "      <td>325</td>\n",
       "      <td>1</td>\n",
       "      <td>883</td>\n",
       "      <td>0</td>\n",
       "      <td>1</td>\n",
       "      <td>716</td>\n",
       "      <td>1638</td>\n",
       "      <td>3</td>\n",
       "    </tr>\n",
       "  </tbody>\n",
       "</table>\n",
       "<p>3582 rows × 8 columns</p>\n",
       "</div>"
      ],
      "text/plain": [
       "      brands  variant  driven_kms  owners  fuel   EMI  price  Location\n",
       "0        131        1         850       1     1  2477    818         6\n",
       "1        390        1         554       0     0  1366    515         6\n",
       "2        364        1         221       0     1   410    515         6\n",
       "3        379        1        2817       0     1  1142    515         6\n",
       "4        379        1        1903       0     1  1207    515         6\n",
       "...      ...      ...         ...     ...   ...   ...    ...       ...\n",
       "3652     155        1        3250       1     0  1142   1997         3\n",
       "3653     155        1        2403       0     1  1276   2090         3\n",
       "3654     390        1        1348       0     0  1301   2110         3\n",
       "3655     405        1        1439       0     0  1199   2043         3\n",
       "3656     325        1         883       0     1   716   1638         3\n",
       "\n",
       "[3582 rows x 8 columns]"
      ]
     },
     "execution_count": 34,
     "metadata": {},
     "output_type": "execute_result"
    }
   ],
   "source": [
    "df_new=df[(z<3).all(axis=1)]\n",
    "df_new"
   ]
  },
  {
   "cell_type": "code",
   "execution_count": 35,
   "id": "484028b0",
   "metadata": {},
   "outputs": [
    {
     "data": {
      "text/plain": [
       "(3582, 8)"
      ]
     },
     "execution_count": 35,
     "metadata": {},
     "output_type": "execute_result"
    }
   ],
   "source": [
    "df_new.shape"
   ]
  },
  {
   "cell_type": "code",
   "execution_count": 36,
   "id": "c4cd7a96",
   "metadata": {},
   "outputs": [
    {
     "name": "stdout",
     "output_type": "stream",
     "text": [
      "2.077638053581192\n"
     ]
    }
   ],
   "source": [
    "# Checking the percentage of loss data\n",
    "loss_percent =(3658-3582)/3658*100\n",
    "print(loss_percent)"
   ]
  },
  {
   "cell_type": "code",
   "execution_count": 37,
   "id": "e2c5ff9f",
   "metadata": {},
   "outputs": [
    {
     "data": {
      "text/plain": [
       "brands       -0.090023\n",
       "variant      -1.949912\n",
       "driven_kms    0.008155\n",
       "owners        1.896259\n",
       "fuel         -0.898523\n",
       "EMI           0.040828\n",
       "price         0.369597\n",
       "Location      0.207224\n",
       "dtype: float64"
      ]
     },
     "execution_count": 37,
     "metadata": {},
     "output_type": "execute_result"
    }
   ],
   "source": [
    "#checking Skewness after removing Outliers\n",
    "df_new.skew()"
   ]
  },
  {
   "cell_type": "code",
   "execution_count": 38,
   "id": "b094e3f1",
   "metadata": {},
   "outputs": [],
   "source": [
    "# Removing Skewness\n",
    "from sklearn.preprocessing import PowerTransformer\n",
    "scaler = PowerTransformer(method='yeo-johnson')\n",
    "df_new[['variant','owners']] = scaler.fit_transform(df_new[['variant','owners']].values)"
   ]
  },
  {
   "cell_type": "code",
   "execution_count": 39,
   "id": "d40cef3d",
   "metadata": {},
   "outputs": [
    {
     "data": {
      "text/plain": [
       "brands       -0.090023\n",
       "variant      -1.949912\n",
       "driven_kms    0.008155\n",
       "owners        1.896259\n",
       "fuel         -0.898523\n",
       "EMI           0.040828\n",
       "price         0.369597\n",
       "Location      0.207224\n",
       "dtype: float64"
      ]
     },
     "execution_count": 39,
     "metadata": {},
     "output_type": "execute_result"
    }
   ],
   "source": [
    "df_new.skew()"
   ]
  },
  {
   "cell_type": "markdown",
   "id": "565d54ae",
   "metadata": {},
   "source": [
    "There is no skewness in our data."
   ]
  },
  {
   "cell_type": "code",
   "execution_count": 40,
   "id": "6abb630c",
   "metadata": {},
   "outputs": [],
   "source": [
    "x = df_new.drop(\"price\",axis=1)\n",
    "y = df_new[\"price\"]"
   ]
  },
  {
   "cell_type": "code",
   "execution_count": 41,
   "id": "3057d073",
   "metadata": {},
   "outputs": [],
   "source": [
    "# Scaling the data\n",
    "from sklearn.preprocessing import StandardScaler\n",
    "scaler=StandardScaler()\n",
    "X = pd.DataFrame(scaler.fit_transform(x), columns=x.columns)\n"
   ]
  },
  {
   "cell_type": "code",
   "execution_count": 42,
   "id": "6401f033",
   "metadata": {},
   "outputs": [
    {
     "data": {
      "text/html": [
       "<div>\n",
       "<style scoped>\n",
       "    .dataframe tbody tr th:only-of-type {\n",
       "        vertical-align: middle;\n",
       "    }\n",
       "\n",
       "    .dataframe tbody tr th {\n",
       "        vertical-align: top;\n",
       "    }\n",
       "\n",
       "    .dataframe thead th {\n",
       "        text-align: right;\n",
       "    }\n",
       "</style>\n",
       "<table border=\"1\" class=\"dataframe\">\n",
       "  <thead>\n",
       "    <tr style=\"text-align: right;\">\n",
       "      <th></th>\n",
       "      <th>brands</th>\n",
       "      <th>variant</th>\n",
       "      <th>driven_kms</th>\n",
       "      <th>owners</th>\n",
       "      <th>fuel</th>\n",
       "      <th>EMI</th>\n",
       "      <th>Location</th>\n",
       "    </tr>\n",
       "  </thead>\n",
       "  <tbody>\n",
       "    <tr>\n",
       "      <th>0</th>\n",
       "      <td>-1.084579</td>\n",
       "      <td>0.421784</td>\n",
       "      <td>-0.894065</td>\n",
       "      <td>2.325483</td>\n",
       "      <td>0.613012</td>\n",
       "      <td>1.408861</td>\n",
       "      <td>1.354219</td>\n",
       "    </tr>\n",
       "    <tr>\n",
       "      <th>1</th>\n",
       "      <td>1.343593</td>\n",
       "      <td>0.421784</td>\n",
       "      <td>-1.186758</td>\n",
       "      <td>-0.430018</td>\n",
       "      <td>-1.587197</td>\n",
       "      <td>0.038029</td>\n",
       "      <td>1.354219</td>\n",
       "    </tr>\n",
       "    <tr>\n",
       "      <th>2</th>\n",
       "      <td>1.099838</td>\n",
       "      <td>0.421784</td>\n",
       "      <td>-1.516038</td>\n",
       "      <td>-0.430018</td>\n",
       "      <td>0.613012</td>\n",
       "      <td>-1.141553</td>\n",
       "      <td>1.354219</td>\n",
       "    </tr>\n",
       "    <tr>\n",
       "      <th>3</th>\n",
       "      <td>1.240466</td>\n",
       "      <td>0.421784</td>\n",
       "      <td>1.050961</td>\n",
       "      <td>-0.430018</td>\n",
       "      <td>0.613012</td>\n",
       "      <td>-0.238359</td>\n",
       "      <td>1.354219</td>\n",
       "    </tr>\n",
       "    <tr>\n",
       "      <th>4</th>\n",
       "      <td>1.240466</td>\n",
       "      <td>0.421784</td>\n",
       "      <td>0.147172</td>\n",
       "      <td>-0.430018</td>\n",
       "      <td>0.613012</td>\n",
       "      <td>-0.158157</td>\n",
       "      <td>1.354219</td>\n",
       "    </tr>\n",
       "    <tr>\n",
       "      <th>...</th>\n",
       "      <td>...</td>\n",
       "      <td>...</td>\n",
       "      <td>...</td>\n",
       "      <td>...</td>\n",
       "      <td>...</td>\n",
       "      <td>...</td>\n",
       "      <td>...</td>\n",
       "    </tr>\n",
       "    <tr>\n",
       "      <th>3577</th>\n",
       "      <td>-0.859575</td>\n",
       "      <td>0.421784</td>\n",
       "      <td>1.479124</td>\n",
       "      <td>2.325483</td>\n",
       "      <td>-1.587197</td>\n",
       "      <td>-0.238359</td>\n",
       "      <td>-0.078249</td>\n",
       "    </tr>\n",
       "    <tr>\n",
       "      <th>3578</th>\n",
       "      <td>-0.859575</td>\n",
       "      <td>0.421784</td>\n",
       "      <td>0.641586</td>\n",
       "      <td>-0.430018</td>\n",
       "      <td>0.613012</td>\n",
       "      <td>-0.073020</td>\n",
       "      <td>-0.078249</td>\n",
       "    </tr>\n",
       "    <tr>\n",
       "      <th>3579</th>\n",
       "      <td>1.343593</td>\n",
       "      <td>0.421784</td>\n",
       "      <td>-0.401628</td>\n",
       "      <td>-0.430018</td>\n",
       "      <td>-1.587197</td>\n",
       "      <td>-0.042173</td>\n",
       "      <td>-0.078249</td>\n",
       "    </tr>\n",
       "    <tr>\n",
       "      <th>3580</th>\n",
       "      <td>1.484221</td>\n",
       "      <td>0.421784</td>\n",
       "      <td>-0.311645</td>\n",
       "      <td>-0.430018</td>\n",
       "      <td>-1.587197</td>\n",
       "      <td>-0.168028</td>\n",
       "      <td>-0.078249</td>\n",
       "    </tr>\n",
       "    <tr>\n",
       "      <th>3581</th>\n",
       "      <td>0.734206</td>\n",
       "      <td>0.421784</td>\n",
       "      <td>-0.861434</td>\n",
       "      <td>-0.430018</td>\n",
       "      <td>0.613012</td>\n",
       "      <td>-0.763988</td>\n",
       "      <td>-0.078249</td>\n",
       "    </tr>\n",
       "  </tbody>\n",
       "</table>\n",
       "<p>3582 rows × 7 columns</p>\n",
       "</div>"
      ],
      "text/plain": [
       "        brands   variant  driven_kms    owners      fuel       EMI  Location\n",
       "0    -1.084579  0.421784   -0.894065  2.325483  0.613012  1.408861  1.354219\n",
       "1     1.343593  0.421784   -1.186758 -0.430018 -1.587197  0.038029  1.354219\n",
       "2     1.099838  0.421784   -1.516038 -0.430018  0.613012 -1.141553  1.354219\n",
       "3     1.240466  0.421784    1.050961 -0.430018  0.613012 -0.238359  1.354219\n",
       "4     1.240466  0.421784    0.147172 -0.430018  0.613012 -0.158157  1.354219\n",
       "...        ...       ...         ...       ...       ...       ...       ...\n",
       "3577 -0.859575  0.421784    1.479124  2.325483 -1.587197 -0.238359 -0.078249\n",
       "3578 -0.859575  0.421784    0.641586 -0.430018  0.613012 -0.073020 -0.078249\n",
       "3579  1.343593  0.421784   -0.401628 -0.430018 -1.587197 -0.042173 -0.078249\n",
       "3580  1.484221  0.421784   -0.311645 -0.430018 -1.587197 -0.168028 -0.078249\n",
       "3581  0.734206  0.421784   -0.861434 -0.430018  0.613012 -0.763988 -0.078249\n",
       "\n",
       "[3582 rows x 7 columns]"
      ]
     },
     "execution_count": 42,
     "metadata": {},
     "output_type": "execute_result"
    }
   ],
   "source": [
    "X"
   ]
  },
  {
   "cell_type": "code",
   "execution_count": 43,
   "id": "ef74f7e1",
   "metadata": {},
   "outputs": [
    {
     "data": {
      "text/html": [
       "<div>\n",
       "<style scoped>\n",
       "    .dataframe tbody tr th:only-of-type {\n",
       "        vertical-align: middle;\n",
       "    }\n",
       "\n",
       "    .dataframe tbody tr th {\n",
       "        vertical-align: top;\n",
       "    }\n",
       "\n",
       "    .dataframe thead th {\n",
       "        text-align: right;\n",
       "    }\n",
       "</style>\n",
       "<table border=\"1\" class=\"dataframe\">\n",
       "  <thead>\n",
       "    <tr style=\"text-align: right;\">\n",
       "      <th></th>\n",
       "      <th>vif</th>\n",
       "      <th>Features</th>\n",
       "    </tr>\n",
       "  </thead>\n",
       "  <tbody>\n",
       "    <tr>\n",
       "      <th>0</th>\n",
       "      <td>1.156703</td>\n",
       "      <td>brands</td>\n",
       "    </tr>\n",
       "    <tr>\n",
       "      <th>1</th>\n",
       "      <td>1.035723</td>\n",
       "      <td>variant</td>\n",
       "    </tr>\n",
       "    <tr>\n",
       "      <th>2</th>\n",
       "      <td>1.082232</td>\n",
       "      <td>driven_kms</td>\n",
       "    </tr>\n",
       "    <tr>\n",
       "      <th>3</th>\n",
       "      <td>1.029262</td>\n",
       "      <td>owners</td>\n",
       "    </tr>\n",
       "    <tr>\n",
       "      <th>4</th>\n",
       "      <td>1.056320</td>\n",
       "      <td>fuel</td>\n",
       "    </tr>\n",
       "    <tr>\n",
       "      <th>5</th>\n",
       "      <td>1.027555</td>\n",
       "      <td>EMI</td>\n",
       "    </tr>\n",
       "    <tr>\n",
       "      <th>6</th>\n",
       "      <td>1.030295</td>\n",
       "      <td>Location</td>\n",
       "    </tr>\n",
       "  </tbody>\n",
       "</table>\n",
       "</div>"
      ],
      "text/plain": [
       "        vif    Features\n",
       "0  1.156703      brands\n",
       "1  1.035723     variant\n",
       "2  1.082232  driven_kms\n",
       "3  1.029262      owners\n",
       "4  1.056320        fuel\n",
       "5  1.027555         EMI\n",
       "6  1.030295    Location"
      ]
     },
     "execution_count": 43,
     "metadata": {},
     "output_type": "execute_result"
    }
   ],
   "source": [
    "# Checking multicollinearity using VIF\n",
    "vif = pd.DataFrame()\n",
    "vif[\"vif\"] = [variance_inflation_factor(X.values,i) for i in range(X.shape[1])]\n",
    "vif[\"Features\"] = X.columns\n",
    "vif"
   ]
  },
  {
   "cell_type": "code",
   "execution_count": 46,
   "id": "d044e692",
   "metadata": {},
   "outputs": [
    {
     "data": {
      "text/plain": [
       "PCA(n_components=5)"
      ]
     },
     "execution_count": 46,
     "metadata": {},
     "output_type": "execute_result"
    }
   ],
   "source": [
    "# PCA\n",
    "# Importing and fitting data to pca\n",
    "from sklearn.decomposition import PCA\n",
    "\n",
    "pca =PCA(n_components=5)\n",
    "pca.fit(x)"
   ]
  },
  {
   "cell_type": "code",
   "execution_count": 47,
   "id": "bfff4afb",
   "metadata": {},
   "outputs": [
    {
     "data": {
      "text/plain": [
       "array([6.05248684e-01, 3.88537478e-01, 6.20999775e-03, 2.57821727e-06,\n",
       "       5.94088870e-07])"
      ]
     },
     "execution_count": 47,
     "metadata": {},
     "output_type": "execute_result"
    }
   ],
   "source": [
    "pca.explained_variance_ratio_"
   ]
  },
  {
   "cell_type": "code",
   "execution_count": 48,
   "id": "d17bf68f",
   "metadata": {},
   "outputs": [],
   "source": [
    "x_returned_pca=pca.transform(x)"
   ]
  },
  {
   "cell_type": "code",
   "execution_count": 49,
   "id": "cfb8aad9",
   "metadata": {},
   "outputs": [
    {
     "data": {
      "text/plain": [
       "(3582, 5)"
      ]
     },
     "execution_count": 49,
     "metadata": {},
     "output_type": "execute_result"
    }
   ],
   "source": [
    "x_returned_pca.shape"
   ]
  },
  {
   "cell_type": "code",
   "execution_count": 50,
   "id": "d896c52b",
   "metadata": {},
   "outputs": [
    {
     "data": {
      "text/plain": [
       "ExtraTreesRegressor()"
      ]
     },
     "execution_count": 50,
     "metadata": {},
     "output_type": "execute_result"
    }
   ],
   "source": [
    "# Important feature using ExtraTreesRegressor\n",
    "\n",
    "from sklearn.ensemble import ExtraTreesRegressor\n",
    "selection = ExtraTreesRegressor()\n",
    "selection.fit(x,y)"
   ]
  },
  {
   "cell_type": "code",
   "execution_count": 51,
   "id": "1978dbf1",
   "metadata": {},
   "outputs": [
    {
     "name": "stdout",
     "output_type": "stream",
     "text": [
      "[0.03322927 0.01126347 0.00805107 0.00296489 0.00655744 0.67060902\n",
      " 0.26732485]\n"
     ]
    }
   ],
   "source": [
    "print(selection.feature_importances_)"
   ]
  },
  {
   "cell_type": "code",
   "execution_count": 52,
   "id": "1a93b8d7",
   "metadata": {},
   "outputs": [
    {
     "data": {
      "image/png": "[encoded data removed]",
      "text/plain": [
       "<Figure size 864x576 with 1 Axes>"
      ]
     },
     "metadata": {
      "needs_background": "light"
     },
     "output_type": "display_data"
    }
   ],
   "source": [
    "# Plotting graph  for feature importance\n",
    "plt.figure(figsize = (12,8))\n",
    "feat_imp = pd.Series(selection.feature_importances_ , index= x.columns)\n",
    "feat_imp.nlargest(20).plot(kind ='barh')\n",
    "plt.show()"
   ]
  },
  {
   "cell_type": "code",
   "execution_count": 53,
   "id": "8e9306f5",
   "metadata": {},
   "outputs": [],
   "source": [
    "#splitting the  data\n",
    "x_train, x_test, y_train, y_test = train_test_split(x, y, test_size = 0.2, random_state = 42)"
   ]
  },
  {
   "cell_type": "code",
   "execution_count": 54,
   "id": "a2aeb164",
   "metadata": {},
   "outputs": [
    {
     "name": "stdout",
     "output_type": "stream",
     "text": [
      "0.28147153873741904\n"
     ]
    }
   ],
   "source": [
    "from sklearn.linear_model import LinearRegression\n",
    "\n",
    "lr=LinearRegression()\n",
    "lr.fit(x_train,y_train)\n",
    "print(lr.score(x_train,y_train))\n",
    "lr_predict=lr.predict(x_test)"
   ]
  },
  {
   "cell_type": "code",
   "execution_count": 55,
   "id": "72a64704",
   "metadata": {},
   "outputs": [
    {
     "name": "stdout",
     "output_type": "stream",
     "text": [
      "MSE: 292298.71277540765\n",
      "MAE: 444.51420195561036\n",
      "r2_score: -1.756492633514628\n"
     ]
    }
   ],
   "source": [
    "from sklearn.metrics import mean_absolute_error\n",
    "print('MSE:',mean_squared_error(lr_predict,y_test))\n",
    "print('MAE:',mean_absolute_error(lr_predict,y_test))\n",
    "print('r2_score:',r2_score(lr_predict,y_test))"
   ]
  },
  {
   "cell_type": "code",
   "execution_count": 56,
   "id": "b659f24a",
   "metadata": {},
   "outputs": [
    {
     "name": "stdout",
     "output_type": "stream",
     "text": [
      "R2_score: -1.9584827570349744e+24\n",
      "MSE: 7.795909738868211e+29\n",
      "MAE: 813547501477814.1\n",
      "RMSE: 882944490829871.5\n"
     ]
    }
   ],
   "source": [
    "# Using SGD regressor\n",
    "from sklearn.linear_model import SGDRegressor\n",
    "from sklearn import metrics\n",
    "sgd=SGDRegressor()\n",
    "sgd.fit(x_train,y_train)\n",
    "pred=sgd.predict(x_test)\n",
    "print('R2_score:',r2_score(y_test,pred))\n",
    "print('MSE:',metrics.mean_squared_error(y_test,pred))\n",
    "print('MAE:',metrics.mean_absolute_error(y_test,pred))\n",
    "print('RMSE:',np.sqrt(metrics.mean_squared_error(y_test,pred)))"
   ]
  },
  {
   "cell_type": "code",
   "execution_count": 57,
   "id": "14c6316f",
   "metadata": {},
   "outputs": [
    {
     "name": "stdout",
     "output_type": "stream",
     "text": [
      "{'alpha': 0.1, 'random_state': 0}\n"
     ]
    }
   ],
   "source": [
    "# Using LASSO\n",
    "from sklearn.linear_model import Lasso,Ridge\n",
    "parameters={'alpha':[0.0001,0.001,0.01,0.1,1,10],'random_state':list(range(0,100))}\n",
    "ls=Lasso()\n",
    "Z=GridSearchCV(ls,parameters)\n",
    "Z.fit(x_train,y_train)\n",
    "print(Z.best_params_)"
   ]
  },
  {
   "cell_type": "code",
   "execution_count": 58,
   "id": "949df028",
   "metadata": {},
   "outputs": [
    {
     "name": "stdout",
     "output_type": "stream",
     "text": [
      "R2_score: 0.26586642323256815\n",
      "MSE: 292228.2098319832\n",
      "MAE: 444.54018406195564\n",
      "RMSE: 540.5813628233803\n"
     ]
    }
   ],
   "source": [
    "ls=Lasso(alpha=1,random_state=0)\n",
    "ls.fit(x_train,y_train)\n",
    "pred=ls.predict(x_test)\n",
    "print('R2_score:',r2_score(y_test,pred))\n",
    "print('MSE:',metrics.mean_squared_error(y_test,pred))\n",
    "print('MAE:',metrics.mean_absolute_error(y_test,pred))\n",
    "print('RMSE:',np.sqrt(metrics.mean_squared_error(y_test,pred)))"
   ]
  },
  {
   "cell_type": "code",
   "execution_count": 59,
   "id": "c1de2fb1",
   "metadata": {},
   "outputs": [
    {
     "name": "stdout",
     "output_type": "stream",
     "text": [
      "{'alpha': 10, 'solver': 'auto'}\n"
     ]
    }
   ],
   "source": [
    "# Using RIDGE\n",
    "parameters={'alpha':[0.001,0.01,0.1,1,10],'solver':['auto','svd','cholesky','lsqr','sparse_cg','sag','saga']}\n",
    "rd=Ridge()\n",
    "Z1=GridSearchCV(rd,parameters)\n",
    "Z1.fit(x_train,y_train)\n",
    "print(Z1.best_params_)"
   ]
  },
  {
   "cell_type": "code",
   "execution_count": 60,
   "id": "c2ec13ad",
   "metadata": {},
   "outputs": [
    {
     "name": "stdout",
     "output_type": "stream",
     "text": [
      "R2_score: 0.14843671079572163\n",
      "MSE: 338972.12093002495\n",
      "MAE: 487.3059610065415\n",
      "RMSE: 582.2131232890796\n"
     ]
    }
   ],
   "source": [
    "rd=Ridge(alpha=10,solver='lsqr')\n",
    "rd.fit(x_train,y_train)\n",
    "pred=rd.predict(x_test)\n",
    "print('R2_score:',r2_score(y_test,pred))\n",
    "print('MSE:',metrics.mean_squared_error(y_test,pred))\n",
    "print('MAE:',metrics.mean_absolute_error(y_test,pred))\n",
    "print('RMSE:',np.sqrt(metrics.mean_squared_error(y_test,pred)))"
   ]
  },
  {
   "cell_type": "code",
   "execution_count": 61,
   "id": "e3fe6240",
   "metadata": {},
   "outputs": [
    {
     "data": {
      "text/plain": [
       "RandomForestRegressor()"
      ]
     },
     "execution_count": 61,
     "metadata": {},
     "output_type": "execute_result"
    }
   ],
   "source": [
    "#Fitting the RandomForest Model \n",
    "from sklearn.ensemble import RandomForestRegressor\n",
    "reg_rf = RandomForestRegressor()\n",
    "reg_rf.fit(x_train, y_train)"
   ]
  },
  {
   "cell_type": "code",
   "execution_count": 62,
   "id": "e16b190d",
   "metadata": {},
   "outputs": [],
   "source": [
    "#predicting the value on X_test\n",
    "\n",
    "y_pred = reg_rf.predict(x_test)"
   ]
  },
  {
   "cell_type": "code",
   "execution_count": 63,
   "id": "0675fd12",
   "metadata": {},
   "outputs": [
    {
     "data": {
      "text/plain": [
       "0.999980286983545"
      ]
     },
     "execution_count": 63,
     "metadata": {},
     "output_type": "execute_result"
    }
   ],
   "source": [
    "reg_rf.score(x_train, y_train)"
   ]
  },
  {
   "cell_type": "code",
   "execution_count": 64,
   "id": "162480f0",
   "metadata": {},
   "outputs": [
    {
     "data": {
      "text/plain": [
       "0.9998818854587771"
      ]
     },
     "execution_count": 64,
     "metadata": {},
     "output_type": "execute_result"
    }
   ],
   "source": [
    "reg_rf.score(x_test, y_test)"
   ]
  },
  {
   "cell_type": "code",
   "execution_count": 65,
   "id": "1687396f",
   "metadata": {},
   "outputs": [
    {
     "data": {
      "text/plain": [
       "0.9998818854587771"
      ]
     },
     "execution_count": 65,
     "metadata": {},
     "output_type": "execute_result"
    }
   ],
   "source": [
    "metrics.r2_score(y_test, y_pred)"
   ]
  },
  {
   "cell_type": "code",
   "execution_count": 66,
   "id": "3d848478",
   "metadata": {},
   "outputs": [],
   "source": [
    "# Hypereparameter Tuning\n",
    "from sklearn.model_selection import RandomizedSearchCV\n",
    "\n",
    "# Number of trees in random forest\n",
    "n_estimators = [int(x) for x in np.linspace(start = 100, stop = 1200, num = 12)]\n",
    "\n",
    "# Number of features to consider at every split\n",
    "max_features = ['auto', 'sqrt']\n",
    "\n",
    "# Maximum number of levels in tree\n",
    "max_depth = [int(x) for x in np.linspace(5, 30, num = 6)]\n",
    "\n",
    "# Minimum number of samples required to split a node\n",
    "min_samples_split = [2, 5, 10, 15, 100]\n",
    "\n",
    "# Minimum number of samples required at each leaf node\n",
    "min_samples_leaf = [1, 2, 5, 10]"
   ]
  },
  {
   "cell_type": "code",
   "execution_count": 67,
   "id": "1f7a37f8",
   "metadata": {},
   "outputs": [],
   "source": [
    "# Create the random grid\n",
    "\n",
    "random_grid = {'n_estimators': n_estimators,\n",
    "               'max_features': max_features,\n",
    "               'max_depth': max_depth,\n",
    "               'min_samples_split': min_samples_split,\n",
    "               'min_samples_leaf': min_samples_leaf}"
   ]
  },
  {
   "cell_type": "code",
   "execution_count": 68,
   "id": "5bf800cc",
   "metadata": {},
   "outputs": [],
   "source": [
    "rf_random = RandomizedSearchCV( estimator = reg_rf , param_distributions= random_grid , scoring='neg_mean_squared_error',\n",
    "                               n_iter = 10, cv = 5, verbose=2, random_state=42, n_jobs = 1)"
   ]
  },
  {
   "cell_type": "code",
   "execution_count": 69,
   "id": "678c1fea",
   "metadata": {},
   "outputs": [
    {
     "name": "stdout",
     "output_type": "stream",
     "text": [
      "Fitting 5 folds for each of 10 candidates, totalling 50 fits\n",
      "[CV] END max_depth=10, max_features=sqrt, min_samples_leaf=5, min_samples_split=5, n_estimators=900; total time=   2.3s\n",
      "[CV] END max_depth=10, max_features=sqrt, min_samples_leaf=5, min_samples_split=5, n_estimators=900; total time=   2.0s\n",
      "[CV] END max_depth=10, max_features=sqrt, min_samples_leaf=5, min_samples_split=5, n_estimators=900; total time=   1.8s\n",
      "[CV] END max_depth=10, max_features=sqrt, min_samples_leaf=5, min_samples_split=5, n_estimators=900; total time=   1.6s\n",
      "[CV] END max_depth=10, max_features=sqrt, min_samples_leaf=5, min_samples_split=5, n_estimators=900; total time=   1.8s\n",
      "[CV] END max_depth=15, max_features=sqrt, min_samples_leaf=2, min_samples_split=10, n_estimators=1100; total time=   2.4s\n",
      "[CV] END max_depth=15, max_features=sqrt, min_samples_leaf=2, min_samples_split=10, n_estimators=1100; total time=   2.5s\n",
      "[CV] END max_depth=15, max_features=sqrt, min_samples_leaf=2, min_samples_split=10, n_estimators=1100; total time=   2.7s\n",
      "[CV] END max_depth=15, max_features=sqrt, min_samples_leaf=2, min_samples_split=10, n_estimators=1100; total time=   2.5s\n",
      "[CV] END max_depth=15, max_features=sqrt, min_samples_leaf=2, min_samples_split=10, n_estimators=1100; total time=   2.4s\n",
      "[CV] END max_depth=15, max_features=auto, min_samples_leaf=5, min_samples_split=100, n_estimators=300; total time=   0.7s\n",
      "[CV] END max_depth=15, max_features=auto, min_samples_leaf=5, min_samples_split=100, n_estimators=300; total time=   0.8s\n",
      "[CV] END max_depth=15, max_features=auto, min_samples_leaf=5, min_samples_split=100, n_estimators=300; total time=   0.8s\n",
      "[CV] END max_depth=15, max_features=auto, min_samples_leaf=5, min_samples_split=100, n_estimators=300; total time=   0.7s\n",
      "[CV] END max_depth=15, max_features=auto, min_samples_leaf=5, min_samples_split=100, n_estimators=300; total time=   0.7s\n",
      "[CV] END max_depth=15, max_features=auto, min_samples_leaf=5, min_samples_split=5, n_estimators=400; total time=   1.4s\n",
      "[CV] END max_depth=15, max_features=auto, min_samples_leaf=5, min_samples_split=5, n_estimators=400; total time=   1.4s\n",
      "[CV] END max_depth=15, max_features=auto, min_samples_leaf=5, min_samples_split=5, n_estimators=400; total time=   1.6s\n",
      "[CV] END max_depth=15, max_features=auto, min_samples_leaf=5, min_samples_split=5, n_estimators=400; total time=   1.4s\n",
      "[CV] END max_depth=15, max_features=auto, min_samples_leaf=5, min_samples_split=5, n_estimators=400; total time=   1.3s\n",
      "[CV] END max_depth=20, max_features=auto, min_samples_leaf=10, min_samples_split=5, n_estimators=700; total time=   2.5s\n",
      "[CV] END max_depth=20, max_features=auto, min_samples_leaf=10, min_samples_split=5, n_estimators=700; total time=   2.2s\n",
      "[CV] END max_depth=20, max_features=auto, min_samples_leaf=10, min_samples_split=5, n_estimators=700; total time=   2.2s\n",
      "[CV] END max_depth=20, max_features=auto, min_samples_leaf=10, min_samples_split=5, n_estimators=700; total time=   2.5s\n",
      "[CV] END max_depth=20, max_features=auto, min_samples_leaf=10, min_samples_split=5, n_estimators=700; total time=   2.4s\n",
      "[CV] END max_depth=25, max_features=sqrt, min_samples_leaf=1, min_samples_split=2, n_estimators=1000; total time=   3.0s\n",
      "[CV] END max_depth=25, max_features=sqrt, min_samples_leaf=1, min_samples_split=2, n_estimators=1000; total time=   3.1s\n",
      "[CV] END max_depth=25, max_features=sqrt, min_samples_leaf=1, min_samples_split=2, n_estimators=1000; total time=   3.1s\n",
      "[CV] END max_depth=25, max_features=sqrt, min_samples_leaf=1, min_samples_split=2, n_estimators=1000; total time=   3.1s\n",
      "[CV] END max_depth=25, max_features=sqrt, min_samples_leaf=1, min_samples_split=2, n_estimators=1000; total time=   3.0s\n",
      "[CV] END max_depth=5, max_features=sqrt, min_samples_leaf=10, min_samples_split=15, n_estimators=1100; total time=   1.8s\n",
      "[CV] END max_depth=5, max_features=sqrt, min_samples_leaf=10, min_samples_split=15, n_estimators=1100; total time=   1.6s\n",
      "[CV] END max_depth=5, max_features=sqrt, min_samples_leaf=10, min_samples_split=15, n_estimators=1100; total time=   1.9s\n",
      "[CV] END max_depth=5, max_features=sqrt, min_samples_leaf=10, min_samples_split=15, n_estimators=1100; total time=   2.0s\n",
      "[CV] END max_depth=5, max_features=sqrt, min_samples_leaf=10, min_samples_split=15, n_estimators=1100; total time=   2.2s\n",
      "[CV] END max_depth=15, max_features=sqrt, min_samples_leaf=1, min_samples_split=15, n_estimators=300; total time=   0.5s\n",
      "[CV] END max_depth=15, max_features=sqrt, min_samples_leaf=1, min_samples_split=15, n_estimators=300; total time=   0.5s\n",
      "[CV] END max_depth=15, max_features=sqrt, min_samples_leaf=1, min_samples_split=15, n_estimators=300; total time=   0.6s\n",
      "[CV] END max_depth=15, max_features=sqrt, min_samples_leaf=1, min_samples_split=15, n_estimators=300; total time=   0.5s\n",
      "[CV] END max_depth=15, max_features=sqrt, min_samples_leaf=1, min_samples_split=15, n_estimators=300; total time=   0.7s\n",
      "[CV] END max_depth=5, max_features=sqrt, min_samples_leaf=2, min_samples_split=10, n_estimators=700; total time=   1.0s\n",
      "[CV] END max_depth=5, max_features=sqrt, min_samples_leaf=2, min_samples_split=10, n_estimators=700; total time=   1.2s\n",
      "[CV] END max_depth=5, max_features=sqrt, min_samples_leaf=2, min_samples_split=10, n_estimators=700; total time=   1.2s\n",
      "[CV] END max_depth=5, max_features=sqrt, min_samples_leaf=2, min_samples_split=10, n_estimators=700; total time=   1.2s\n",
      "[CV] END max_depth=5, max_features=sqrt, min_samples_leaf=2, min_samples_split=10, n_estimators=700; total time=   1.1s\n",
      "[CV] END max_depth=20, max_features=auto, min_samples_leaf=1, min_samples_split=15, n_estimators=700; total time=   2.4s\n",
      "[CV] END max_depth=20, max_features=auto, min_samples_leaf=1, min_samples_split=15, n_estimators=700; total time=   2.4s\n",
      "[CV] END max_depth=20, max_features=auto, min_samples_leaf=1, min_samples_split=15, n_estimators=700; total time=   2.5s\n",
      "[CV] END max_depth=20, max_features=auto, min_samples_leaf=1, min_samples_split=15, n_estimators=700; total time=   2.5s\n",
      "[CV] END max_depth=20, max_features=auto, min_samples_leaf=1, min_samples_split=15, n_estimators=700; total time=   2.3s\n"
     ]
    },
    {
     "data": {
      "text/plain": [
       "RandomizedSearchCV(cv=5, estimator=RandomForestRegressor(), n_jobs=1,\n",
       "                   param_distributions={'max_depth': [5, 10, 15, 20, 25, 30],\n",
       "                                        'max_features': ['auto', 'sqrt'],\n",
       "                                        'min_samples_leaf': [1, 2, 5, 10],\n",
       "                                        'min_samples_split': [2, 5, 10, 15,\n",
       "                                                              100],\n",
       "                                        'n_estimators': [100, 200, 300, 400,\n",
       "                                                         500, 600, 700, 800,\n",
       "                                                         900, 1000, 1100,\n",
       "                                                         1200]},\n",
       "                   random_state=42, scoring='neg_mean_squared_error',\n",
       "                   verbose=2)"
      ]
     },
     "execution_count": 69,
     "metadata": {},
     "output_type": "execute_result"
    }
   ],
   "source": [
    "rf_random.fit(x_train , y_train)"
   ]
  },
  {
   "cell_type": "code",
   "execution_count": 70,
   "id": "3e6ba33f",
   "metadata": {},
   "outputs": [
    {
     "data": {
      "text/plain": [
       "{'n_estimators': 700,\n",
       " 'min_samples_split': 15,\n",
       " 'min_samples_leaf': 1,\n",
       " 'max_features': 'auto',\n",
       " 'max_depth': 20}"
      ]
     },
     "execution_count": 70,
     "metadata": {},
     "output_type": "execute_result"
    }
   ],
   "source": [
    "rf_random.best_params_"
   ]
  },
  {
   "cell_type": "code",
   "execution_count": 71,
   "id": "862a6974",
   "metadata": {},
   "outputs": [],
   "source": [
    "prediction = rf_random.predict(x_test)"
   ]
  },
  {
   "cell_type": "code",
   "execution_count": 72,
   "id": "e30db657",
   "metadata": {},
   "outputs": [
    {
     "name": "stdout",
     "output_type": "stream",
     "text": [
      "MAE: 3.4250206422326217\n",
      "MSE: 229.73974943207148\n",
      "RMSE: 15.15716825241679\n"
     ]
    }
   ],
   "source": [
    "print('MAE:', metrics.mean_absolute_error(y_test, prediction))\n",
    "print('MSE:', metrics.mean_squared_error(y_test, prediction))\n",
    "print('RMSE:', np.sqrt(metrics.mean_squared_error(y_test, prediction)))"
   ]
  },
  {
   "cell_type": "code",
   "execution_count": 73,
   "id": "bdefd8dc",
   "metadata": {},
   "outputs": [
    {
     "name": "stdout",
     "output_type": "stream",
     "text": [
      "R2 Score of Our Model is : \n",
      "\n"
     ]
    },
    {
     "data": {
      "text/plain": [
       "0.9994228494775601"
      ]
     },
     "execution_count": 73,
     "metadata": {},
     "output_type": "execute_result"
    }
   ],
   "source": [
    "print(\"R2 Score of Our Model is : \")\n",
    "print()\n",
    "metrics.r2_score(y_test, prediction)"
   ]
  },
  {
   "cell_type": "markdown",
   "id": "fd8853b6",
   "metadata": {},
   "source": [
    "Hence, Random Forest Regressor gives us the best accuracy score."
   ]
  },
  {
   "cell_type": "code",
   "execution_count": 74,
   "id": "0e1d9eaf",
   "metadata": {},
   "outputs": [],
   "source": [
    "# Saving The model\n",
    "import pickle\n",
    "file = 'USED CAR PRICE PREDICTION.pkl'\n",
    "#save file\n",
    "save = pickle.dump(RandomForestRegressor,open(file,'wb'))"
   ]
  },
  {
   "cell_type": "code",
   "execution_count": 75,
   "id": "e20a3652",
   "metadata": {},
   "outputs": [
    {
     "data": {
      "text/html": [
       "<div>\n",
       "<style scoped>\n",
       "    .dataframe tbody tr th:only-of-type {\n",
       "        vertical-align: middle;\n",
       "    }\n",
       "\n",
       "    .dataframe tbody tr th {\n",
       "        vertical-align: top;\n",
       "    }\n",
       "\n",
       "    .dataframe thead th {\n",
       "        text-align: right;\n",
       "    }\n",
       "</style>\n",
       "<table border=\"1\" class=\"dataframe\">\n",
       "  <thead>\n",
       "    <tr style=\"text-align: right;\">\n",
       "      <th></th>\n",
       "      <th>Actual_Price</th>\n",
       "      <th>Predicted_Price</th>\n",
       "      <th>Error</th>\n",
       "    </tr>\n",
       "  </thead>\n",
       "  <tbody>\n",
       "    <tr>\n",
       "      <th>1443</th>\n",
       "      <td>2111</td>\n",
       "      <td>2109.45</td>\n",
       "      <td>1.55</td>\n",
       "    </tr>\n",
       "    <tr>\n",
       "      <th>415</th>\n",
       "      <td>515</td>\n",
       "      <td>515.00</td>\n",
       "      <td>0.00</td>\n",
       "    </tr>\n",
       "    <tr>\n",
       "      <th>815</th>\n",
       "      <td>1875</td>\n",
       "      <td>1890.10</td>\n",
       "      <td>-15.10</td>\n",
       "    </tr>\n",
       "    <tr>\n",
       "      <th>3098</th>\n",
       "      <td>2070</td>\n",
       "      <td>2069.85</td>\n",
       "      <td>0.15</td>\n",
       "    </tr>\n",
       "    <tr>\n",
       "      <th>1588</th>\n",
       "      <td>1685</td>\n",
       "      <td>1684.67</td>\n",
       "      <td>0.33</td>\n",
       "    </tr>\n",
       "    <tr>\n",
       "      <th>...</th>\n",
       "      <td>...</td>\n",
       "      <td>...</td>\n",
       "      <td>...</td>\n",
       "    </tr>\n",
       "    <tr>\n",
       "      <th>181</th>\n",
       "      <td>725</td>\n",
       "      <td>725.26</td>\n",
       "      <td>-0.26</td>\n",
       "    </tr>\n",
       "    <tr>\n",
       "      <th>955</th>\n",
       "      <td>22</td>\n",
       "      <td>20.82</td>\n",
       "      <td>1.18</td>\n",
       "    </tr>\n",
       "    <tr>\n",
       "      <th>1129</th>\n",
       "      <td>830</td>\n",
       "      <td>829.71</td>\n",
       "      <td>0.29</td>\n",
       "    </tr>\n",
       "    <tr>\n",
       "      <th>1438</th>\n",
       "      <td>666</td>\n",
       "      <td>664.87</td>\n",
       "      <td>1.13</td>\n",
       "    </tr>\n",
       "    <tr>\n",
       "      <th>1598</th>\n",
       "      <td>1888</td>\n",
       "      <td>1886.60</td>\n",
       "      <td>1.40</td>\n",
       "    </tr>\n",
       "  </tbody>\n",
       "</table>\n",
       "<p>717 rows × 3 columns</p>\n",
       "</div>"
      ],
      "text/plain": [
       "      Actual_Price  Predicted_Price  Error\n",
       "1443          2111          2109.45   1.55\n",
       "415            515           515.00   0.00\n",
       "815           1875          1890.10 -15.10\n",
       "3098          2070          2069.85   0.15\n",
       "1588          1685          1684.67   0.33\n",
       "...            ...              ...    ...\n",
       "181            725           725.26  -0.26\n",
       "955             22            20.82   1.18\n",
       "1129           830           829.71   0.29\n",
       "1438           666           664.87   1.13\n",
       "1598          1888          1886.60   1.40\n",
       "\n",
       "[717 rows x 3 columns]"
      ]
     },
     "execution_count": 75,
     "metadata": {},
     "output_type": "execute_result"
    }
   ],
   "source": [
    "# Conclusion\n",
    "rf_predict = pd.DataFrame({\n",
    "    'Actual_Price' : y_test,\n",
    "    'Predicted_Price' : y_pred\n",
    "})\n",
    "\n",
    "rf_predict['Error'] = rf_predict['Actual_Price'] - rf_predict['Predicted_Price']\n",
    "\n",
    "rf_predict"
   ]
  },
  {
   "cell_type": "code",
   "execution_count": null,
   "id": "2152c41e",
   "metadata": {},
   "outputs": [],
   "source": []
  }
 ],
 "metadata": {
  "kernelspec": {
   "display_name": "Python 3",
   "language": "python",
   "name": "python3"
  },
  "language_info": {
   "codemirror_mode": {
    "name": "ipython",
    "version": 3
   },
   "file_extension": ".py",
   "mimetype": "text/x-python",
   "name": "python",
   "nbconvert_exporter": "python",
   "pygments_lexer": "ipython3",
   "version": "3.8.8"
  }
 },
 "nbformat": 4,
 "nbformat_minor": 5
}
